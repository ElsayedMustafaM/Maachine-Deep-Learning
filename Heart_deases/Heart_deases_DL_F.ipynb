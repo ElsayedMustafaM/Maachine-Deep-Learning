{
  "nbformat": 4,
  "nbformat_minor": 0,
  "metadata": {
    "colab": {
      "name": "Heart_deases_DL.ipynb",
      "provenance": [],
      "collapsed_sections": []
    },
    "kernelspec": {
      "name": "python3",
      "display_name": "Python 3"
    },
    "accelerator": "TPU"
  },
  "cells": [
    {
      "cell_type": "code",
      "metadata": {
        "id": "NKs1mYRB7-YG",
        "colab_type": "code",
        "outputId": "19d918f1-08b9-418b-cd5a-66cd2b5148a4",
        "colab": {
          "base_uri": "https://localhost:8080/",
          "height": 34
        }
      },
      "source": [
        "# Load the Drive helper and mount\n",
        "from google.colab import drive\n",
        "# This will prompt for authorization.\n",
        "drive.mount('/content/drive')"
      ],
      "execution_count": 8,
      "outputs": [
        {
          "output_type": "stream",
          "text": [
            "Drive already mounted at /content/drive; to attempt to forcibly remount, call drive.mount(\"/content/drive\", force_remount=True).\n"
          ],
          "name": "stdout"
        }
      ]
    },
    {
      "cell_type": "code",
      "metadata": {
        "id": "9xZXFI1e9NCQ",
        "colab_type": "code",
        "colab": {}
      },
      "source": [
        "import pandas as pd\n",
        "import numpy as np\n",
        "import matplotlib.pyplot as plt\n",
        "import seaborn as sns"
      ],
      "execution_count": 0,
      "outputs": []
    },
    {
      "cell_type": "code",
      "metadata": {
        "id": "3JA4HIn39RXq",
        "colab_type": "code",
        "colab": {}
      },
      "source": [
        "processed=pd.read_csv('drive/My Drive/HeartDeases_dataset/processed.cleveland.data.csv')\n",
        "reprocessed=pd.read_csv('drive/My Drive/HeartDeases_dataset/reprocessed_hungarian_data.csv')"
      ],
      "execution_count": 0,
      "outputs": []
    },
    {
      "cell_type": "code",
      "metadata": {
        "id": "tPKVK4e-9Sxx",
        "colab_type": "code",
        "outputId": "f3979775-bd46-414d-89ba-8a291a5c8c42",
        "colab": {
          "base_uri": "https://localhost:8080/",
          "height": 391
        }
      },
      "source": [
        "processed.tail()"
      ],
      "execution_count": 11,
      "outputs": [
        {
          "output_type": "execute_result",
          "data": {
            "text/html": [
              "<div>\n",
              "<style scoped>\n",
              "    .dataframe tbody tr th:only-of-type {\n",
              "        vertical-align: middle;\n",
              "    }\n",
              "\n",
              "    .dataframe tbody tr th {\n",
              "        vertical-align: top;\n",
              "    }\n",
              "\n",
              "    .dataframe thead th {\n",
              "        text-align: right;\n",
              "    }\n",
              "</style>\n",
              "<table border=\"1\" class=\"dataframe\">\n",
              "  <thead>\n",
              "    <tr style=\"text-align: right;\">\n",
              "      <th></th>\n",
              "      <th>age</th>\n",
              "      <th>sex</th>\n",
              "      <th>cp</th>\n",
              "      <th>trestbps</th>\n",
              "      <th>chol</th>\n",
              "      <th>fbs</th>\n",
              "      <th>restecg</th>\n",
              "      <th>thalach</th>\n",
              "      <th>exang</th>\n",
              "      <th>oldpeak</th>\n",
              "      <th>slope</th>\n",
              "      <th>ca</th>\n",
              "      <th>thal</th>\n",
              "      <th>target</th>\n",
              "    </tr>\n",
              "  </thead>\n",
              "  <tbody>\n",
              "    <tr>\n",
              "      <th>298</th>\n",
              "      <td>45</td>\n",
              "      <td>1</td>\n",
              "      <td>1</td>\n",
              "      <td>110</td>\n",
              "      <td>264</td>\n",
              "      <td>0</td>\n",
              "      <td>0</td>\n",
              "      <td>132</td>\n",
              "      <td>0</td>\n",
              "      <td>1.2</td>\n",
              "      <td>2</td>\n",
              "      <td>0</td>\n",
              "      <td>7</td>\n",
              "      <td>1</td>\n",
              "    </tr>\n",
              "    <tr>\n",
              "      <th>299</th>\n",
              "      <td>68</td>\n",
              "      <td>1</td>\n",
              "      <td>4</td>\n",
              "      <td>144</td>\n",
              "      <td>193</td>\n",
              "      <td>1</td>\n",
              "      <td>0</td>\n",
              "      <td>141</td>\n",
              "      <td>0</td>\n",
              "      <td>3.4</td>\n",
              "      <td>2</td>\n",
              "      <td>2</td>\n",
              "      <td>7</td>\n",
              "      <td>2</td>\n",
              "    </tr>\n",
              "    <tr>\n",
              "      <th>300</th>\n",
              "      <td>57</td>\n",
              "      <td>1</td>\n",
              "      <td>4</td>\n",
              "      <td>130</td>\n",
              "      <td>131</td>\n",
              "      <td>0</td>\n",
              "      <td>0</td>\n",
              "      <td>115</td>\n",
              "      <td>1</td>\n",
              "      <td>1.2</td>\n",
              "      <td>2</td>\n",
              "      <td>1</td>\n",
              "      <td>7</td>\n",
              "      <td>3</td>\n",
              "    </tr>\n",
              "    <tr>\n",
              "      <th>301</th>\n",
              "      <td>57</td>\n",
              "      <td>0</td>\n",
              "      <td>2</td>\n",
              "      <td>130</td>\n",
              "      <td>236</td>\n",
              "      <td>0</td>\n",
              "      <td>2</td>\n",
              "      <td>174</td>\n",
              "      <td>0</td>\n",
              "      <td>0.0</td>\n",
              "      <td>2</td>\n",
              "      <td>1</td>\n",
              "      <td>3</td>\n",
              "      <td>1</td>\n",
              "    </tr>\n",
              "    <tr>\n",
              "      <th>302</th>\n",
              "      <td>38</td>\n",
              "      <td>1</td>\n",
              "      <td>3</td>\n",
              "      <td>138</td>\n",
              "      <td>175</td>\n",
              "      <td>0</td>\n",
              "      <td>0</td>\n",
              "      <td>173</td>\n",
              "      <td>0</td>\n",
              "      <td>0.0</td>\n",
              "      <td>1</td>\n",
              "      <td>?</td>\n",
              "      <td>3</td>\n",
              "      <td>0</td>\n",
              "    </tr>\n",
              "  </tbody>\n",
              "</table>\n",
              "</div>"
            ],
            "text/plain": [
              "     age  sex  cp  trestbps  chol  fbs  ...  exang  oldpeak  slope  ca  thal target\n",
              "298   45    1   1       110   264    0  ...      0      1.2      2   0     7      1\n",
              "299   68    1   4       144   193    1  ...      0      3.4      2   2     7      2\n",
              "300   57    1   4       130   131    0  ...      1      1.2      2   1     7      3\n",
              "301   57    0   2       130   236    0  ...      0      0.0      2   1     3      1\n",
              "302   38    1   3       138   175    0  ...      0      0.0      1   ?     3      0\n",
              "\n",
              "[5 rows x 14 columns]"
            ]
          },
          "metadata": {
            "tags": []
          },
          "execution_count": 6
        },
        {
          "output_type": "execute_result",
          "data": {
            "text/html": [
              "<div>\n",
              "<style scoped>\n",
              "    .dataframe tbody tr th:only-of-type {\n",
              "        vertical-align: middle;\n",
              "    }\n",
              "\n",
              "    .dataframe tbody tr th {\n",
              "        vertical-align: top;\n",
              "    }\n",
              "\n",
              "    .dataframe thead th {\n",
              "        text-align: right;\n",
              "    }\n",
              "</style>\n",
              "<table border=\"1\" class=\"dataframe\">\n",
              "  <thead>\n",
              "    <tr style=\"text-align: right;\">\n",
              "      <th></th>\n",
              "      <th>age</th>\n",
              "      <th>sex</th>\n",
              "      <th>cp</th>\n",
              "      <th>trestbps</th>\n",
              "      <th>chol</th>\n",
              "      <th>fbs</th>\n",
              "      <th>restecg</th>\n",
              "      <th>thalach</th>\n",
              "      <th>exang</th>\n",
              "      <th>oldpeak</th>\n",
              "      <th>slope</th>\n",
              "      <th>ca</th>\n",
              "      <th>thal</th>\n",
              "      <th>target</th>\n",
              "    </tr>\n",
              "  </thead>\n",
              "  <tbody>\n",
              "    <tr>\n",
              "      <th>298</th>\n",
              "      <td>45</td>\n",
              "      <td>1</td>\n",
              "      <td>1</td>\n",
              "      <td>110</td>\n",
              "      <td>264</td>\n",
              "      <td>0</td>\n",
              "      <td>0</td>\n",
              "      <td>132</td>\n",
              "      <td>0</td>\n",
              "      <td>1.2</td>\n",
              "      <td>2</td>\n",
              "      <td>0</td>\n",
              "      <td>7</td>\n",
              "      <td>1</td>\n",
              "    </tr>\n",
              "    <tr>\n",
              "      <th>299</th>\n",
              "      <td>68</td>\n",
              "      <td>1</td>\n",
              "      <td>4</td>\n",
              "      <td>144</td>\n",
              "      <td>193</td>\n",
              "      <td>1</td>\n",
              "      <td>0</td>\n",
              "      <td>141</td>\n",
              "      <td>0</td>\n",
              "      <td>3.4</td>\n",
              "      <td>2</td>\n",
              "      <td>2</td>\n",
              "      <td>7</td>\n",
              "      <td>2</td>\n",
              "    </tr>\n",
              "    <tr>\n",
              "      <th>300</th>\n",
              "      <td>57</td>\n",
              "      <td>1</td>\n",
              "      <td>4</td>\n",
              "      <td>130</td>\n",
              "      <td>131</td>\n",
              "      <td>0</td>\n",
              "      <td>0</td>\n",
              "      <td>115</td>\n",
              "      <td>1</td>\n",
              "      <td>1.2</td>\n",
              "      <td>2</td>\n",
              "      <td>1</td>\n",
              "      <td>7</td>\n",
              "      <td>3</td>\n",
              "    </tr>\n",
              "    <tr>\n",
              "      <th>301</th>\n",
              "      <td>57</td>\n",
              "      <td>0</td>\n",
              "      <td>2</td>\n",
              "      <td>130</td>\n",
              "      <td>236</td>\n",
              "      <td>0</td>\n",
              "      <td>2</td>\n",
              "      <td>174</td>\n",
              "      <td>0</td>\n",
              "      <td>0.0</td>\n",
              "      <td>2</td>\n",
              "      <td>1</td>\n",
              "      <td>3</td>\n",
              "      <td>1</td>\n",
              "    </tr>\n",
              "    <tr>\n",
              "      <th>302</th>\n",
              "      <td>38</td>\n",
              "      <td>1</td>\n",
              "      <td>3</td>\n",
              "      <td>138</td>\n",
              "      <td>175</td>\n",
              "      <td>0</td>\n",
              "      <td>0</td>\n",
              "      <td>173</td>\n",
              "      <td>0</td>\n",
              "      <td>0.0</td>\n",
              "      <td>1</td>\n",
              "      <td>?</td>\n",
              "      <td>3</td>\n",
              "      <td>0</td>\n",
              "    </tr>\n",
              "  </tbody>\n",
              "</table>\n",
              "</div>"
            ],
            "text/plain": [
              "     age  sex  cp  trestbps  chol  fbs  ...  exang  oldpeak  slope  ca  thal target\n",
              "298   45    1   1       110   264    0  ...      0      1.2      2   0     7      1\n",
              "299   68    1   4       144   193    1  ...      0      3.4      2   2     7      2\n",
              "300   57    1   4       130   131    0  ...      1      1.2      2   1     7      3\n",
              "301   57    0   2       130   236    0  ...      0      0.0      2   1     3      1\n",
              "302   38    1   3       138   175    0  ...      0      0.0      1   ?     3      0\n",
              "\n",
              "[5 rows x 14 columns]"
            ]
          },
          "metadata": {
            "tags": []
          },
          "execution_count": 11
        }
      ]
    },
    {
      "cell_type": "code",
      "metadata": {
        "id": "Whgj-bts9Stn",
        "colab_type": "code",
        "outputId": "128e5cc0-f553-4be7-db59-f85a44a7aa53",
        "colab": {
          "base_uri": "https://localhost:8080/",
          "height": 34
        }
      },
      "source": [
        "processed.target.unique()"
      ],
      "execution_count": 12,
      "outputs": [
        {
          "output_type": "execute_result",
          "data": {
            "text/plain": [
              "array([0, 2, 1, 3, 4])"
            ]
          },
          "metadata": {
            "tags": []
          },
          "execution_count": 7
        },
        {
          "output_type": "execute_result",
          "data": {
            "text/plain": [
              "array([0, 2, 1, 3, 4])"
            ]
          },
          "metadata": {
            "tags": []
          },
          "execution_count": 12
        }
      ]
    },
    {
      "cell_type": "code",
      "metadata": {
        "id": "OHNMpi-G9h99",
        "colab_type": "code",
        "outputId": "b96c4a19-d483-456d-a1d3-977cf971414e",
        "colab": {
          "base_uri": "https://localhost:8080/",
          "height": 204
        }
      },
      "source": [
        "reprocessed=reprocessed.iloc[:,:-1]\n",
        "reprocessed.tail()"
      ],
      "execution_count": 13,
      "outputs": [
        {
          "output_type": "execute_result",
          "data": {
            "text/html": [
              "<div>\n",
              "<style scoped>\n",
              "    .dataframe tbody tr th:only-of-type {\n",
              "        vertical-align: middle;\n",
              "    }\n",
              "\n",
              "    .dataframe tbody tr th {\n",
              "        vertical-align: top;\n",
              "    }\n",
              "\n",
              "    .dataframe thead th {\n",
              "        text-align: right;\n",
              "    }\n",
              "</style>\n",
              "<table border=\"1\" class=\"dataframe\">\n",
              "  <thead>\n",
              "    <tr style=\"text-align: right;\">\n",
              "      <th></th>\n",
              "      <th>age</th>\n",
              "      <th>sex</th>\n",
              "      <th>cp</th>\n",
              "      <th>trestbps</th>\n",
              "      <th>chol</th>\n",
              "      <th>fbs</th>\n",
              "      <th>restecg</th>\n",
              "      <th>thalach</th>\n",
              "      <th>exang</th>\n",
              "      <th>oldpeak</th>\n",
              "      <th>slope</th>\n",
              "      <th>ca</th>\n",
              "      <th>thal</th>\n",
              "      <th>target</th>\n",
              "    </tr>\n",
              "  </thead>\n",
              "  <tbody>\n",
              "    <tr>\n",
              "      <th>289</th>\n",
              "      <td>48</td>\n",
              "      <td>0</td>\n",
              "      <td>2</td>\n",
              "      <td>-9</td>\n",
              "      <td>308</td>\n",
              "      <td>0</td>\n",
              "      <td>1</td>\n",
              "      <td>-9</td>\n",
              "      <td>-9</td>\n",
              "      <td>2.0</td>\n",
              "      <td>1</td>\n",
              "      <td>-9</td>\n",
              "      <td>-9</td>\n",
              "      <td>0</td>\n",
              "    </tr>\n",
              "    <tr>\n",
              "      <th>290</th>\n",
              "      <td>36</td>\n",
              "      <td>1</td>\n",
              "      <td>2</td>\n",
              "      <td>120</td>\n",
              "      <td>166</td>\n",
              "      <td>0</td>\n",
              "      <td>0</td>\n",
              "      <td>180</td>\n",
              "      <td>0</td>\n",
              "      <td>0.0</td>\n",
              "      <td>-9</td>\n",
              "      <td>-9</td>\n",
              "      <td>-9</td>\n",
              "      <td>0</td>\n",
              "    </tr>\n",
              "    <tr>\n",
              "      <th>291</th>\n",
              "      <td>48</td>\n",
              "      <td>1</td>\n",
              "      <td>3</td>\n",
              "      <td>110</td>\n",
              "      <td>211</td>\n",
              "      <td>0</td>\n",
              "      <td>0</td>\n",
              "      <td>138</td>\n",
              "      <td>0</td>\n",
              "      <td>0.0</td>\n",
              "      <td>-9</td>\n",
              "      <td>-9</td>\n",
              "      <td>6</td>\n",
              "      <td>0</td>\n",
              "    </tr>\n",
              "    <tr>\n",
              "      <th>292</th>\n",
              "      <td>47</td>\n",
              "      <td>0</td>\n",
              "      <td>2</td>\n",
              "      <td>140</td>\n",
              "      <td>257</td>\n",
              "      <td>0</td>\n",
              "      <td>0</td>\n",
              "      <td>135</td>\n",
              "      <td>0</td>\n",
              "      <td>1.0</td>\n",
              "      <td>1</td>\n",
              "      <td>-9</td>\n",
              "      <td>-9</td>\n",
              "      <td>0</td>\n",
              "    </tr>\n",
              "    <tr>\n",
              "      <th>293</th>\n",
              "      <td>53</td>\n",
              "      <td>1</td>\n",
              "      <td>4</td>\n",
              "      <td>130</td>\n",
              "      <td>182</td>\n",
              "      <td>0</td>\n",
              "      <td>0</td>\n",
              "      <td>148</td>\n",
              "      <td>0</td>\n",
              "      <td>0.0</td>\n",
              "      <td>-9</td>\n",
              "      <td>-9</td>\n",
              "      <td>-9</td>\n",
              "      <td>0</td>\n",
              "    </tr>\n",
              "  </tbody>\n",
              "</table>\n",
              "</div>"
            ],
            "text/plain": [
              "     age  sex  cp  trestbps  chol  fbs  ...  exang  oldpeak  slope  ca  thal  target\n",
              "289   48    0   2        -9   308    0  ...     -9      2.0      1  -9    -9       0\n",
              "290   36    1   2       120   166    0  ...      0      0.0     -9  -9    -9       0\n",
              "291   48    1   3       110   211    0  ...      0      0.0     -9  -9     6       0\n",
              "292   47    0   2       140   257    0  ...      0      1.0      1  -9    -9       0\n",
              "293   53    1   4       130   182    0  ...      0      0.0     -9  -9    -9       0\n",
              "\n",
              "[5 rows x 14 columns]"
            ]
          },
          "metadata": {
            "tags": []
          },
          "execution_count": 13
        }
      ]
    },
    {
      "cell_type": "code",
      "metadata": {
        "id": "UvkJBmBW9hoQ",
        "colab_type": "code",
        "outputId": "a54d2a77-9c4f-4306-9de2-abc79b5666e0",
        "colab": {
          "base_uri": "https://localhost:8080/",
          "height": 34
        }
      },
      "source": [
        "reprocessed.target.unique()"
      ],
      "execution_count": 14,
      "outputs": [
        {
          "output_type": "execute_result",
          "data": {
            "text/plain": [
              "array([0, 1, 3, 4, 2])"
            ]
          },
          "metadata": {
            "tags": []
          },
          "execution_count": 14
        }
      ]
    },
    {
      "cell_type": "code",
      "metadata": {
        "id": "z9iv0Kj69hlG",
        "colab_type": "code",
        "outputId": "51dd8876-0c1d-4e61-e9cf-8098f39c362b",
        "colab": {
          "base_uri": "https://localhost:8080/",
          "height": 204
        }
      },
      "source": [
        "data=pd.concat([processed,reprocessed])\n",
        "data.head()"
      ],
      "execution_count": 15,
      "outputs": [
        {
          "output_type": "execute_result",
          "data": {
            "text/html": [
              "<div>\n",
              "<style scoped>\n",
              "    .dataframe tbody tr th:only-of-type {\n",
              "        vertical-align: middle;\n",
              "    }\n",
              "\n",
              "    .dataframe tbody tr th {\n",
              "        vertical-align: top;\n",
              "    }\n",
              "\n",
              "    .dataframe thead th {\n",
              "        text-align: right;\n",
              "    }\n",
              "</style>\n",
              "<table border=\"1\" class=\"dataframe\">\n",
              "  <thead>\n",
              "    <tr style=\"text-align: right;\">\n",
              "      <th></th>\n",
              "      <th>age</th>\n",
              "      <th>sex</th>\n",
              "      <th>cp</th>\n",
              "      <th>trestbps</th>\n",
              "      <th>chol</th>\n",
              "      <th>fbs</th>\n",
              "      <th>restecg</th>\n",
              "      <th>thalach</th>\n",
              "      <th>exang</th>\n",
              "      <th>oldpeak</th>\n",
              "      <th>slope</th>\n",
              "      <th>ca</th>\n",
              "      <th>thal</th>\n",
              "      <th>target</th>\n",
              "    </tr>\n",
              "  </thead>\n",
              "  <tbody>\n",
              "    <tr>\n",
              "      <th>0</th>\n",
              "      <td>63</td>\n",
              "      <td>1</td>\n",
              "      <td>1</td>\n",
              "      <td>145</td>\n",
              "      <td>233</td>\n",
              "      <td>1</td>\n",
              "      <td>2</td>\n",
              "      <td>150</td>\n",
              "      <td>0</td>\n",
              "      <td>2.3</td>\n",
              "      <td>3</td>\n",
              "      <td>0</td>\n",
              "      <td>6</td>\n",
              "      <td>0</td>\n",
              "    </tr>\n",
              "    <tr>\n",
              "      <th>1</th>\n",
              "      <td>67</td>\n",
              "      <td>1</td>\n",
              "      <td>4</td>\n",
              "      <td>160</td>\n",
              "      <td>286</td>\n",
              "      <td>0</td>\n",
              "      <td>2</td>\n",
              "      <td>108</td>\n",
              "      <td>1</td>\n",
              "      <td>1.5</td>\n",
              "      <td>2</td>\n",
              "      <td>3</td>\n",
              "      <td>3</td>\n",
              "      <td>2</td>\n",
              "    </tr>\n",
              "    <tr>\n",
              "      <th>2</th>\n",
              "      <td>67</td>\n",
              "      <td>1</td>\n",
              "      <td>4</td>\n",
              "      <td>120</td>\n",
              "      <td>229</td>\n",
              "      <td>0</td>\n",
              "      <td>2</td>\n",
              "      <td>129</td>\n",
              "      <td>1</td>\n",
              "      <td>2.6</td>\n",
              "      <td>2</td>\n",
              "      <td>2</td>\n",
              "      <td>7</td>\n",
              "      <td>1</td>\n",
              "    </tr>\n",
              "    <tr>\n",
              "      <th>3</th>\n",
              "      <td>37</td>\n",
              "      <td>1</td>\n",
              "      <td>3</td>\n",
              "      <td>130</td>\n",
              "      <td>250</td>\n",
              "      <td>0</td>\n",
              "      <td>0</td>\n",
              "      <td>187</td>\n",
              "      <td>0</td>\n",
              "      <td>3.5</td>\n",
              "      <td>3</td>\n",
              "      <td>0</td>\n",
              "      <td>3</td>\n",
              "      <td>0</td>\n",
              "    </tr>\n",
              "    <tr>\n",
              "      <th>4</th>\n",
              "      <td>41</td>\n",
              "      <td>0</td>\n",
              "      <td>2</td>\n",
              "      <td>130</td>\n",
              "      <td>204</td>\n",
              "      <td>0</td>\n",
              "      <td>2</td>\n",
              "      <td>172</td>\n",
              "      <td>0</td>\n",
              "      <td>1.4</td>\n",
              "      <td>1</td>\n",
              "      <td>0</td>\n",
              "      <td>3</td>\n",
              "      <td>0</td>\n",
              "    </tr>\n",
              "  </tbody>\n",
              "</table>\n",
              "</div>"
            ],
            "text/plain": [
              "   age  sex  cp  trestbps  chol  fbs  ...  exang  oldpeak  slope  ca  thal target\n",
              "0   63    1   1       145   233    1  ...      0      2.3      3   0     6      0\n",
              "1   67    1   4       160   286    0  ...      1      1.5      2   3     3      2\n",
              "2   67    1   4       120   229    0  ...      1      2.6      2   2     7      1\n",
              "3   37    1   3       130   250    0  ...      0      3.5      3   0     3      0\n",
              "4   41    0   2       130   204    0  ...      0      1.4      1   0     3      0\n",
              "\n",
              "[5 rows x 14 columns]"
            ]
          },
          "metadata": {
            "tags": []
          },
          "execution_count": 15
        }
      ]
    },
    {
      "cell_type": "markdown",
      "metadata": {
        "id": "8b8xLlAp-GDI",
        "colab_type": "text"
      },
      "source": [
        "# Handling Missing Values"
      ]
    },
    {
      "cell_type": "code",
      "metadata": {
        "id": "TmvDMP4T-Dd0",
        "colab_type": "code",
        "colab": {}
      },
      "source": [
        "# mark all missing values\n",
        "data.replace('?', np.nan, inplace=True)\n",
        "# make dataset numeric\n",
        "data = data.astype('float32')"
      ],
      "execution_count": 0,
      "outputs": []
    },
    {
      "cell_type": "code",
      "metadata": {
        "id": "cF76UZMs-LpC",
        "colab_type": "code",
        "colab": {}
      },
      "source": [
        "columns=data.columns\n",
        "X=data.values\n",
        "\n",
        "from sklearn.impute import SimpleImputer \n",
        "imputer = SimpleImputer(missing_values=np.nan,strategy='most_frequent')\n",
        "X[:,:-1]=imputer.fit_transform(X[:,:-1])\n",
        "\n",
        "imputer2 =SimpleImputer(missing_values=np.nan,strategy='most_frequent')\n",
        "X[:,-1:]=imputer2.fit_transform(X[:,-1:])"
      ],
      "execution_count": 0,
      "outputs": []
    },
    {
      "cell_type": "code",
      "metadata": {
        "id": "SfTVPavm-PB4",
        "colab_type": "code",
        "outputId": "9e0178a2-cdae-4652-cf8d-1bf942bd74f6",
        "colab": {
          "base_uri": "https://localhost:8080/",
          "height": 204
        }
      },
      "source": [
        "data=pd.DataFrame(data=X,columns=columns)\n",
        "data.head()"
      ],
      "execution_count": 18,
      "outputs": [
        {
          "output_type": "execute_result",
          "data": {
            "text/html": [
              "<div>\n",
              "<style scoped>\n",
              "    .dataframe tbody tr th:only-of-type {\n",
              "        vertical-align: middle;\n",
              "    }\n",
              "\n",
              "    .dataframe tbody tr th {\n",
              "        vertical-align: top;\n",
              "    }\n",
              "\n",
              "    .dataframe thead th {\n",
              "        text-align: right;\n",
              "    }\n",
              "</style>\n",
              "<table border=\"1\" class=\"dataframe\">\n",
              "  <thead>\n",
              "    <tr style=\"text-align: right;\">\n",
              "      <th></th>\n",
              "      <th>age</th>\n",
              "      <th>sex</th>\n",
              "      <th>cp</th>\n",
              "      <th>trestbps</th>\n",
              "      <th>chol</th>\n",
              "      <th>fbs</th>\n",
              "      <th>restecg</th>\n",
              "      <th>thalach</th>\n",
              "      <th>exang</th>\n",
              "      <th>oldpeak</th>\n",
              "      <th>slope</th>\n",
              "      <th>ca</th>\n",
              "      <th>thal</th>\n",
              "      <th>target</th>\n",
              "    </tr>\n",
              "  </thead>\n",
              "  <tbody>\n",
              "    <tr>\n",
              "      <th>0</th>\n",
              "      <td>63.0</td>\n",
              "      <td>1.0</td>\n",
              "      <td>1.0</td>\n",
              "      <td>145.0</td>\n",
              "      <td>233.0</td>\n",
              "      <td>1.0</td>\n",
              "      <td>2.0</td>\n",
              "      <td>150.0</td>\n",
              "      <td>0.0</td>\n",
              "      <td>2.3</td>\n",
              "      <td>3.0</td>\n",
              "      <td>0.0</td>\n",
              "      <td>6.0</td>\n",
              "      <td>0.0</td>\n",
              "    </tr>\n",
              "    <tr>\n",
              "      <th>1</th>\n",
              "      <td>67.0</td>\n",
              "      <td>1.0</td>\n",
              "      <td>4.0</td>\n",
              "      <td>160.0</td>\n",
              "      <td>286.0</td>\n",
              "      <td>0.0</td>\n",
              "      <td>2.0</td>\n",
              "      <td>108.0</td>\n",
              "      <td>1.0</td>\n",
              "      <td>1.5</td>\n",
              "      <td>2.0</td>\n",
              "      <td>3.0</td>\n",
              "      <td>3.0</td>\n",
              "      <td>2.0</td>\n",
              "    </tr>\n",
              "    <tr>\n",
              "      <th>2</th>\n",
              "      <td>67.0</td>\n",
              "      <td>1.0</td>\n",
              "      <td>4.0</td>\n",
              "      <td>120.0</td>\n",
              "      <td>229.0</td>\n",
              "      <td>0.0</td>\n",
              "      <td>2.0</td>\n",
              "      <td>129.0</td>\n",
              "      <td>1.0</td>\n",
              "      <td>2.6</td>\n",
              "      <td>2.0</td>\n",
              "      <td>2.0</td>\n",
              "      <td>7.0</td>\n",
              "      <td>1.0</td>\n",
              "    </tr>\n",
              "    <tr>\n",
              "      <th>3</th>\n",
              "      <td>37.0</td>\n",
              "      <td>1.0</td>\n",
              "      <td>3.0</td>\n",
              "      <td>130.0</td>\n",
              "      <td>250.0</td>\n",
              "      <td>0.0</td>\n",
              "      <td>0.0</td>\n",
              "      <td>187.0</td>\n",
              "      <td>0.0</td>\n",
              "      <td>3.5</td>\n",
              "      <td>3.0</td>\n",
              "      <td>0.0</td>\n",
              "      <td>3.0</td>\n",
              "      <td>0.0</td>\n",
              "    </tr>\n",
              "    <tr>\n",
              "      <th>4</th>\n",
              "      <td>41.0</td>\n",
              "      <td>0.0</td>\n",
              "      <td>2.0</td>\n",
              "      <td>130.0</td>\n",
              "      <td>204.0</td>\n",
              "      <td>0.0</td>\n",
              "      <td>2.0</td>\n",
              "      <td>172.0</td>\n",
              "      <td>0.0</td>\n",
              "      <td>1.4</td>\n",
              "      <td>1.0</td>\n",
              "      <td>0.0</td>\n",
              "      <td>3.0</td>\n",
              "      <td>0.0</td>\n",
              "    </tr>\n",
              "  </tbody>\n",
              "</table>\n",
              "</div>"
            ],
            "text/plain": [
              "    age  sex   cp  trestbps   chol  ...  oldpeak  slope   ca  thal  target\n",
              "0  63.0  1.0  1.0     145.0  233.0  ...      2.3    3.0  0.0   6.0     0.0\n",
              "1  67.0  1.0  4.0     160.0  286.0  ...      1.5    2.0  3.0   3.0     2.0\n",
              "2  67.0  1.0  4.0     120.0  229.0  ...      2.6    2.0  2.0   7.0     1.0\n",
              "3  37.0  1.0  3.0     130.0  250.0  ...      3.5    3.0  0.0   3.0     0.0\n",
              "4  41.0  0.0  2.0     130.0  204.0  ...      1.4    1.0  0.0   3.0     0.0\n",
              "\n",
              "[5 rows x 14 columns]"
            ]
          },
          "metadata": {
            "tags": []
          },
          "execution_count": 18
        }
      ]
    },
    {
      "cell_type": "markdown",
      "metadata": {
        "id": "_-e6UzwP-WM-",
        "colab_type": "text"
      },
      "source": [
        "#Data Perprocessing"
      ]
    },
    {
      "cell_type": "markdown",
      "metadata": {
        "id": "8kZ7ApLP-ZXW",
        "colab_type": "text"
      },
      "source": [
        "#Selecting important features based on correlation"
      ]
    },
    {
      "cell_type": "code",
      "metadata": {
        "id": "eId7YWp0-Rg-",
        "colab_type": "code",
        "outputId": "c2e30d47-53e6-49d8-b5d5-69cb27b18a17",
        "colab": {
          "base_uri": "https://localhost:8080/",
          "height": 525
        }
      },
      "source": [
        "def correlation_heatmap(data):\n",
        "    correlations = data.corr()\n",
        "\n",
        "    fig, ax = plt.subplots(figsize=(10,10))\n",
        "    sns.heatmap(correlations, vmax=1.0, center=0, fmt='.2f',\n",
        "                square=True, linewidths=.5, annot=True, cbar_kws={\"shrink\": .70})\n",
        "    plt.show();\n",
        "correlation_heatmap(data)\n"
      ],
      "execution_count": 19,
      "outputs": [
        {
          "output_type": "display_data",
          "data": {
            "image/png": "[encoded data removed]",
            "text/plain": [
              "<Figure size 720x720 with 2 Axes>"
            ]
          },
          "metadata": {
            "tags": []
          }
        }
      ]
    },
    {
      "cell_type": "code",
      "metadata": {
        "id": "9MlQsDAr_NPD",
        "colab_type": "code",
        "colab": {}
      },
      "source": [
        "corr = data.corr()"
      ],
      "execution_count": 0,
      "outputs": []
    },
    {
      "cell_type": "code",
      "metadata": {
        "id": "LrIADXVI_RHS",
        "colab_type": "code",
        "colab": {}
      },
      "source": [
        "columns = np.full((corr.shape[0],), True, dtype=bool)\n",
        "for i in range(corr.shape[0]):\n",
        "    for j in range(i+1, corr.shape[0]):\n",
        "        if corr.iloc[i,j] >= 0.9:\n",
        "            if columns[j]:\n",
        "                columns[j] = False\n",
        "selected_columns = data.columns[columns]\n",
        "data = data[selected_columns]"
      ],
      "execution_count": 0,
      "outputs": []
    },
    {
      "cell_type": "code",
      "metadata": {
        "id": "5CQsFzOf_REH",
        "colab_type": "code",
        "outputId": "d92aae77-cbe9-4ed4-d68e-e444ca311a55",
        "colab": {
          "base_uri": "https://localhost:8080/",
          "height": 34
        }
      },
      "source": [
        "data.shape"
      ],
      "execution_count": 22,
      "outputs": [
        {
          "output_type": "execute_result",
          "data": {
            "text/plain": [
              "(597, 14)"
            ]
          },
          "metadata": {
            "tags": []
          },
          "execution_count": 22
        }
      ]
    },
    {
      "cell_type": "code",
      "metadata": {
        "id": "RKVLjt4Y_RCG",
        "colab_type": "code",
        "colab": {}
      },
      "source": [
        "import statsmodels.regression.linear_model as sm\n",
        "selected_columns = selected_columns[:-1].values\n",
        "def backwardElimination(x, Y, sl, columns):\n",
        "    numVars = len(x[0])\n",
        "    for i in range(0, numVars):\n",
        "        regressor_OLS = sm.OLS(Y, x).fit()\n",
        "        maxVar = max(regressor_OLS.pvalues).astype(float)\n",
        "        if maxVar > sl:\n",
        "            for j in range(0, numVars - i):\n",
        "                if (regressor_OLS.pvalues[j].astype(float) == maxVar):\n",
        "                    x = np.delete(x, j, 1)\n",
        "                    columns = np.delete(columns, j)\n",
        "                    \n",
        "    regressor_OLS.summary()\n",
        "    return x, columns\n",
        "SL = 0.05\n",
        "data_modeled, selected_columns = backwardElimination(data.iloc[:,:-1].values, data.iloc[:,-1].values, SL, selected_columns)"
      ],
      "execution_count": 0,
      "outputs": []
    },
    {
      "cell_type": "code",
      "metadata": {
        "id": "dW-qu6_L_Q-l",
        "colab_type": "code",
        "colab": {}
      },
      "source": [
        "final_data=pd.DataFrame(data=data_modeled,columns=selected_columns)"
      ],
      "execution_count": 0,
      "outputs": []
    },
    {
      "cell_type": "code",
      "metadata": {
        "id": "OpvUPAIJ_YUB",
        "colab_type": "code",
        "outputId": "c5469640-a80a-47f8-c378-5045832482f0",
        "colab": {
          "base_uri": "https://localhost:8080/",
          "height": 204
        }
      },
      "source": [
        "final_data.head()"
      ],
      "execution_count": 25,
      "outputs": [
        {
          "output_type": "execute_result",
          "data": {
            "text/html": [
              "<div>\n",
              "<style scoped>\n",
              "    .dataframe tbody tr th:only-of-type {\n",
              "        vertical-align: middle;\n",
              "    }\n",
              "\n",
              "    .dataframe tbody tr th {\n",
              "        vertical-align: top;\n",
              "    }\n",
              "\n",
              "    .dataframe thead th {\n",
              "        text-align: right;\n",
              "    }\n",
              "</style>\n",
              "<table border=\"1\" class=\"dataframe\">\n",
              "  <thead>\n",
              "    <tr style=\"text-align: right;\">\n",
              "      <th></th>\n",
              "      <th>sex</th>\n",
              "      <th>cp</th>\n",
              "      <th>trestbps</th>\n",
              "      <th>chol</th>\n",
              "      <th>thalach</th>\n",
              "      <th>exang</th>\n",
              "      <th>oldpeak</th>\n",
              "    </tr>\n",
              "  </thead>\n",
              "  <tbody>\n",
              "    <tr>\n",
              "      <th>0</th>\n",
              "      <td>1.0</td>\n",
              "      <td>1.0</td>\n",
              "      <td>145.0</td>\n",
              "      <td>233.0</td>\n",
              "      <td>150.0</td>\n",
              "      <td>0.0</td>\n",
              "      <td>2.3</td>\n",
              "    </tr>\n",
              "    <tr>\n",
              "      <th>1</th>\n",
              "      <td>1.0</td>\n",
              "      <td>4.0</td>\n",
              "      <td>160.0</td>\n",
              "      <td>286.0</td>\n",
              "      <td>108.0</td>\n",
              "      <td>1.0</td>\n",
              "      <td>1.5</td>\n",
              "    </tr>\n",
              "    <tr>\n",
              "      <th>2</th>\n",
              "      <td>1.0</td>\n",
              "      <td>4.0</td>\n",
              "      <td>120.0</td>\n",
              "      <td>229.0</td>\n",
              "      <td>129.0</td>\n",
              "      <td>1.0</td>\n",
              "      <td>2.6</td>\n",
              "    </tr>\n",
              "    <tr>\n",
              "      <th>3</th>\n",
              "      <td>1.0</td>\n",
              "      <td>3.0</td>\n",
              "      <td>130.0</td>\n",
              "      <td>250.0</td>\n",
              "      <td>187.0</td>\n",
              "      <td>0.0</td>\n",
              "      <td>3.5</td>\n",
              "    </tr>\n",
              "    <tr>\n",
              "      <th>4</th>\n",
              "      <td>0.0</td>\n",
              "      <td>2.0</td>\n",
              "      <td>130.0</td>\n",
              "      <td>204.0</td>\n",
              "      <td>172.0</td>\n",
              "      <td>0.0</td>\n",
              "      <td>1.4</td>\n",
              "    </tr>\n",
              "  </tbody>\n",
              "</table>\n",
              "</div>"
            ],
            "text/plain": [
              "   sex   cp  trestbps   chol  thalach  exang  oldpeak\n",
              "0  1.0  1.0     145.0  233.0    150.0    0.0      2.3\n",
              "1  1.0  4.0     160.0  286.0    108.0    1.0      1.5\n",
              "2  1.0  4.0     120.0  229.0    129.0    1.0      2.6\n",
              "3  1.0  3.0     130.0  250.0    187.0    0.0      3.5\n",
              "4  0.0  2.0     130.0  204.0    172.0    0.0      1.4"
            ]
          },
          "metadata": {
            "tags": []
          },
          "execution_count": 25
        }
      ]
    },
    {
      "cell_type": "code",
      "metadata": {
        "id": "YBtod43h_YP3",
        "colab_type": "code",
        "colab": {}
      },
      "source": [
        "final_data['target']=data.iloc[:,-1]"
      ],
      "execution_count": 0,
      "outputs": []
    },
    {
      "cell_type": "code",
      "metadata": {
        "id": "Fu0r_LuNAKrl",
        "colab_type": "code",
        "outputId": "660a9450-fac0-4146-fbcc-acac8982f56e",
        "colab": {
          "base_uri": "https://localhost:8080/",
          "height": 204
        }
      },
      "source": [
        "final_data.head()"
      ],
      "execution_count": 27,
      "outputs": [
        {
          "output_type": "execute_result",
          "data": {
            "text/html": [
              "<div>\n",
              "<style scoped>\n",
              "    .dataframe tbody tr th:only-of-type {\n",
              "        vertical-align: middle;\n",
              "    }\n",
              "\n",
              "    .dataframe tbody tr th {\n",
              "        vertical-align: top;\n",
              "    }\n",
              "\n",
              "    .dataframe thead th {\n",
              "        text-align: right;\n",
              "    }\n",
              "</style>\n",
              "<table border=\"1\" class=\"dataframe\">\n",
              "  <thead>\n",
              "    <tr style=\"text-align: right;\">\n",
              "      <th></th>\n",
              "      <th>sex</th>\n",
              "      <th>cp</th>\n",
              "      <th>trestbps</th>\n",
              "      <th>chol</th>\n",
              "      <th>thalach</th>\n",
              "      <th>exang</th>\n",
              "      <th>oldpeak</th>\n",
              "      <th>target</th>\n",
              "    </tr>\n",
              "  </thead>\n",
              "  <tbody>\n",
              "    <tr>\n",
              "      <th>0</th>\n",
              "      <td>1.0</td>\n",
              "      <td>1.0</td>\n",
              "      <td>145.0</td>\n",
              "      <td>233.0</td>\n",
              "      <td>150.0</td>\n",
              "      <td>0.0</td>\n",
              "      <td>2.3</td>\n",
              "      <td>0.0</td>\n",
              "    </tr>\n",
              "    <tr>\n",
              "      <th>1</th>\n",
              "      <td>1.0</td>\n",
              "      <td>4.0</td>\n",
              "      <td>160.0</td>\n",
              "      <td>286.0</td>\n",
              "      <td>108.0</td>\n",
              "      <td>1.0</td>\n",
              "      <td>1.5</td>\n",
              "      <td>2.0</td>\n",
              "    </tr>\n",
              "    <tr>\n",
              "      <th>2</th>\n",
              "      <td>1.0</td>\n",
              "      <td>4.0</td>\n",
              "      <td>120.0</td>\n",
              "      <td>229.0</td>\n",
              "      <td>129.0</td>\n",
              "      <td>1.0</td>\n",
              "      <td>2.6</td>\n",
              "      <td>1.0</td>\n",
              "    </tr>\n",
              "    <tr>\n",
              "      <th>3</th>\n",
              "      <td>1.0</td>\n",
              "      <td>3.0</td>\n",
              "      <td>130.0</td>\n",
              "      <td>250.0</td>\n",
              "      <td>187.0</td>\n",
              "      <td>0.0</td>\n",
              "      <td>3.5</td>\n",
              "      <td>0.0</td>\n",
              "    </tr>\n",
              "    <tr>\n",
              "      <th>4</th>\n",
              "      <td>0.0</td>\n",
              "      <td>2.0</td>\n",
              "      <td>130.0</td>\n",
              "      <td>204.0</td>\n",
              "      <td>172.0</td>\n",
              "      <td>0.0</td>\n",
              "      <td>1.4</td>\n",
              "      <td>0.0</td>\n",
              "    </tr>\n",
              "  </tbody>\n",
              "</table>\n",
              "</div>"
            ],
            "text/plain": [
              "   sex   cp  trestbps   chol  thalach  exang  oldpeak  target\n",
              "0  1.0  1.0     145.0  233.0    150.0    0.0      2.3     0.0\n",
              "1  1.0  4.0     160.0  286.0    108.0    1.0      1.5     2.0\n",
              "2  1.0  4.0     120.0  229.0    129.0    1.0      2.6     1.0\n",
              "3  1.0  3.0     130.0  250.0    187.0    0.0      3.5     0.0\n",
              "4  0.0  2.0     130.0  204.0    172.0    0.0      1.4     0.0"
            ]
          },
          "metadata": {
            "tags": []
          },
          "execution_count": 27
        }
      ]
    },
    {
      "cell_type": "code",
      "metadata": {
        "id": "DipaxAJu5Xy8",
        "colab_type": "code",
        "colab": {}
      },
      "source": [
        "for i in range(0,len(final_data)):\n",
        "  if final_data.iloc[i,-1]>=1:\n",
        "    final_data.iloc[i,-1]=1\n",
        "  else:\n",
        "    final_data.iloc[i,-1]=0"
      ],
      "execution_count": 0,
      "outputs": []
    },
    {
      "cell_type": "code",
      "metadata": {
        "id": "txidYDhJ9HML",
        "colab_type": "code",
        "outputId": "dfe737cf-afe4-4682-c90d-27ac73f39640",
        "colab": {
          "base_uri": "https://localhost:8080/",
          "height": 204
        }
      },
      "source": [
        "final_data.head()"
      ],
      "execution_count": 29,
      "outputs": [
        {
          "output_type": "execute_result",
          "data": {
            "text/html": [
              "<div>\n",
              "<style scoped>\n",
              "    .dataframe tbody tr th:only-of-type {\n",
              "        vertical-align: middle;\n",
              "    }\n",
              "\n",
              "    .dataframe tbody tr th {\n",
              "        vertical-align: top;\n",
              "    }\n",
              "\n",
              "    .dataframe thead th {\n",
              "        text-align: right;\n",
              "    }\n",
              "</style>\n",
              "<table border=\"1\" class=\"dataframe\">\n",
              "  <thead>\n",
              "    <tr style=\"text-align: right;\">\n",
              "      <th></th>\n",
              "      <th>sex</th>\n",
              "      <th>cp</th>\n",
              "      <th>trestbps</th>\n",
              "      <th>chol</th>\n",
              "      <th>thalach</th>\n",
              "      <th>exang</th>\n",
              "      <th>oldpeak</th>\n",
              "      <th>target</th>\n",
              "    </tr>\n",
              "  </thead>\n",
              "  <tbody>\n",
              "    <tr>\n",
              "      <th>0</th>\n",
              "      <td>1.0</td>\n",
              "      <td>1.0</td>\n",
              "      <td>145.0</td>\n",
              "      <td>233.0</td>\n",
              "      <td>150.0</td>\n",
              "      <td>0.0</td>\n",
              "      <td>2.3</td>\n",
              "      <td>0.0</td>\n",
              "    </tr>\n",
              "    <tr>\n",
              "      <th>1</th>\n",
              "      <td>1.0</td>\n",
              "      <td>4.0</td>\n",
              "      <td>160.0</td>\n",
              "      <td>286.0</td>\n",
              "      <td>108.0</td>\n",
              "      <td>1.0</td>\n",
              "      <td>1.5</td>\n",
              "      <td>1.0</td>\n",
              "    </tr>\n",
              "    <tr>\n",
              "      <th>2</th>\n",
              "      <td>1.0</td>\n",
              "      <td>4.0</td>\n",
              "      <td>120.0</td>\n",
              "      <td>229.0</td>\n",
              "      <td>129.0</td>\n",
              "      <td>1.0</td>\n",
              "      <td>2.6</td>\n",
              "      <td>1.0</td>\n",
              "    </tr>\n",
              "    <tr>\n",
              "      <th>3</th>\n",
              "      <td>1.0</td>\n",
              "      <td>3.0</td>\n",
              "      <td>130.0</td>\n",
              "      <td>250.0</td>\n",
              "      <td>187.0</td>\n",
              "      <td>0.0</td>\n",
              "      <td>3.5</td>\n",
              "      <td>0.0</td>\n",
              "    </tr>\n",
              "    <tr>\n",
              "      <th>4</th>\n",
              "      <td>0.0</td>\n",
              "      <td>2.0</td>\n",
              "      <td>130.0</td>\n",
              "      <td>204.0</td>\n",
              "      <td>172.0</td>\n",
              "      <td>0.0</td>\n",
              "      <td>1.4</td>\n",
              "      <td>0.0</td>\n",
              "    </tr>\n",
              "  </tbody>\n",
              "</table>\n",
              "</div>"
            ],
            "text/plain": [
              "   sex   cp  trestbps   chol  thalach  exang  oldpeak  target\n",
              "0  1.0  1.0     145.0  233.0    150.0    0.0      2.3     0.0\n",
              "1  1.0  4.0     160.0  286.0    108.0    1.0      1.5     1.0\n",
              "2  1.0  4.0     120.0  229.0    129.0    1.0      2.6     1.0\n",
              "3  1.0  3.0     130.0  250.0    187.0    0.0      3.5     0.0\n",
              "4  0.0  2.0     130.0  204.0    172.0    0.0      1.4     0.0"
            ]
          },
          "metadata": {
            "tags": []
          },
          "execution_count": 29
        }
      ]
    },
    {
      "cell_type": "code",
      "metadata": {
        "id": "o-cqRR2hAKpI",
        "colab_type": "code",
        "outputId": "8c1c3ab4-50a9-4f73-cf83-8e83336e12f6",
        "colab": {
          "base_uri": "https://localhost:8080/",
          "height": 1000
        }
      },
      "source": [
        "fig = plt.figure(figsize = (20, 25))\n",
        "j = 0\n",
        "for i in data.columns:\n",
        "    if(i=='target'):\n",
        "      break;\n",
        "    plt.subplot(6, 4, j+1)\n",
        "    j += 1\n",
        "    sns.distplot(data[i][data['target']==0], color='g', label = 'Target 0')\n",
        "    sns.distplot(data[i][data['target']==1], color='r', label = 'Target 1')\n",
        "    plt.legend(loc='best')\n",
        "fig.suptitle('target with each feature ')\n",
        "fig.tight_layout()\n",
        "fig.subplots_adjust(top=0.95)\n",
        "plt.show()"
      ],
      "execution_count": 30,
      "outputs": [
        {
          "output_type": "display_data",
          "data": {
            "image/png": "[encoded data removed]",
            "text/plain": [
              "<Figure size 1440x1800 with 13 Axes>"
            ]
          },
          "metadata": {
            "tags": []
          }
        }
      ]
    },
    {
      "cell_type": "code",
      "metadata": {
        "id": "aHegb31XAKlU",
        "colab_type": "code",
        "colab": {}
      },
      "source": [
        "classes_count=final_data.target.value_counts()"
      ],
      "execution_count": 0,
      "outputs": []
    },
    {
      "cell_type": "code",
      "metadata": {
        "id": "zDAjCd5UAvqt",
        "colab_type": "code",
        "outputId": "94003a2b-f88e-4f13-89cf-de16a1342bd0",
        "colab": {
          "base_uri": "https://localhost:8080/",
          "height": 312
        }
      },
      "source": [
        "x=[1,2]\n",
        "plt.bar(x,classes_count)\n",
        "plt.xticks(x,['class 0','class 1 '])\n",
        "plt.xlabel('Classes')\n",
        "plt.ylabel('Number of record')\n",
        "plt.title('Records in each class')"
      ],
      "execution_count": 32,
      "outputs": [
        {
          "output_type": "execute_result",
          "data": {
            "text/plain": [
              "Text(0.5, 1.0, 'Records in each class')"
            ]
          },
          "metadata": {
            "tags": []
          },
          "execution_count": 32
        },
        {
          "output_type": "display_data",
          "data": {
            "image/png": "[encoded data removed]",
            "text/plain": [
              "<Figure size 432x288 with 1 Axes>"
            ]
          },
          "metadata": {
            "tags": []
          }
        }
      ]
    },
    {
      "cell_type": "code",
      "metadata": {
        "id": "93ObfbHMAvUv",
        "colab_type": "code",
        "colab": {}
      },
      "source": [
        "\n",
        "X=final_data.iloc[:,:-1].values\n",
        "y=final_data.iloc[:,-1].values"
      ],
      "execution_count": 0,
      "outputs": []
    },
    {
      "cell_type": "markdown",
      "metadata": {
        "id": "KaXH9SHKBBe7",
        "colab_type": "text"
      },
      "source": [
        "#Data Augmentation"
      ]
    },
    {
      "cell_type": "code",
      "metadata": {
        "id": "Q67eb6ScAvFo",
        "colab_type": "code",
        "outputId": "38c7497e-7f07-4a2e-bc17-de757ae29895",
        "colab": {
          "base_uri": "https://localhost:8080/",
          "height": 394
        }
      },
      "source": [
        "from collections import Counter\n",
        "print(\"Before OverSampling, counts of label ': {}\".format(Counter(y))) \n",
        "  \n",
        "\n",
        "from imblearn.over_sampling import SVMSMOTE \n",
        "sm = SVMSMOTE(random_state = 2,sampling_strategy='auto',) \n",
        "X_res, y_res = sm.fit_sample(X, y.ravel()) \n",
        "  \n",
        "print('After OverSampling, the shape of train_X: {}'.format(X_res.shape)) \n",
        "print('After OverSampling, the shape of train_y: {} \\n'.format(y_res.shape)) \n",
        "  \n",
        "\n",
        "print(\"After OverSampling, counts of label ': {}\".format(Counter(y_res))) \n"
      ],
      "execution_count": 34,
      "outputs": [
        {
          "output_type": "stream",
          "text": [
            "Before OverSampling, counts of label ': Counter({0.0: 352, 1.0: 245})\n",
            "After OverSampling, the shape of train_X: (704, 7)\n",
            "After OverSampling, the shape of train_y: (704,) \n",
            "\n",
            "After OverSampling, counts of label ': Counter({0.0: 352, 1.0: 352})\n"
          ],
          "name": "stdout"
        },
        {
          "output_type": "stream",
          "text": [
            "/usr/local/lib/python3.6/dist-packages/sklearn/externals/six.py:31: FutureWarning: The module is deprecated in version 0.21 and will be removed in version 0.23 since we've dropped support for Python 2.7. Please rely on the official version of six (https://pypi.org/project/six/).\n",
            "  \"(https://pypi.org/project/six/).\", FutureWarning)\n",
            "/usr/local/lib/python3.6/dist-packages/sklearn/utils/deprecation.py:144: FutureWarning: The sklearn.neighbors.base module is  deprecated in version 0.22 and will be removed in version 0.24. The corresponding classes / functions should instead be imported from sklearn.neighbors. Anything that cannot be imported from sklearn.neighbors is now part of the private API.\n",
            "  warnings.warn(message, FutureWarning)\n",
            "/usr/local/lib/python3.6/dist-packages/sklearn/utils/deprecation.py:87: FutureWarning: Function safe_indexing is deprecated; safe_indexing is deprecated in version 0.22 and will be removed in version 0.24.\n",
            "  warnings.warn(msg, category=FutureWarning)\n",
            "/usr/local/lib/python3.6/dist-packages/sklearn/utils/deprecation.py:87: FutureWarning: Function safe_indexing is deprecated; safe_indexing is deprecated in version 0.22 and will be removed in version 0.24.\n",
            "  warnings.warn(msg, category=FutureWarning)\n",
            "/usr/local/lib/python3.6/dist-packages/sklearn/utils/deprecation.py:87: FutureWarning: Function safe_indexing is deprecated; safe_indexing is deprecated in version 0.22 and will be removed in version 0.24.\n",
            "  warnings.warn(msg, category=FutureWarning)\n",
            "/usr/local/lib/python3.6/dist-packages/sklearn/utils/deprecation.py:87: FutureWarning: Function safe_indexing is deprecated; safe_indexing is deprecated in version 0.22 and will be removed in version 0.24.\n",
            "  warnings.warn(msg, category=FutureWarning)\n",
            "/usr/local/lib/python3.6/dist-packages/sklearn/utils/deprecation.py:87: FutureWarning: Function safe_indexing is deprecated; safe_indexing is deprecated in version 0.22 and will be removed in version 0.24.\n",
            "  warnings.warn(msg, category=FutureWarning)\n",
            "/usr/local/lib/python3.6/dist-packages/sklearn/utils/deprecation.py:87: FutureWarning: Function safe_indexing is deprecated; safe_indexing is deprecated in version 0.22 and will be removed in version 0.24.\n",
            "  warnings.warn(msg, category=FutureWarning)\n"
          ],
          "name": "stderr"
        }
      ]
    },
    {
      "cell_type": "code",
      "metadata": {
        "id": "qbuAIAgYbjci",
        "colab_type": "code",
        "outputId": "120584bc-ee54-431e-f888-b0e551a74dbf",
        "colab": {
          "base_uri": "https://localhost:8080/",
          "height": 51
        }
      },
      "source": [
        "print(X_res.shape)\n",
        "print(y_res.shape)"
      ],
      "execution_count": 35,
      "outputs": [
        {
          "output_type": "stream",
          "text": [
            "(704, 7)\n",
            "(704,)\n"
          ],
          "name": "stdout"
        }
      ]
    },
    {
      "cell_type": "code",
      "metadata": {
        "id": "MPHDwxGSBbGb",
        "colab_type": "code",
        "colab": {}
      },
      "source": [
        "from sklearn.model_selection import train_test_split\n",
        "x_train,x_test,y_train,y_test=train_test_split(X_res,y_res,test_size=0.15,shuffle=True,random_state=123)"
      ],
      "execution_count": 0,
      "outputs": []
    },
    {
      "cell_type": "markdown",
      "metadata": {
        "id": "9sYAd_raihcB",
        "colab_type": "text"
      },
      "source": [
        "#Data Scalling"
      ]
    },
    {
      "cell_type": "code",
      "metadata": {
        "id": "ND8JaT3IBUP4",
        "colab_type": "code",
        "colab": {}
      },
      "source": [
        "from sklearn.preprocessing import StandardScaler\n",
        "sc = StandardScaler()\n",
        "x_train = sc.fit_transform(x_train)\n",
        "x_test = sc.transform(x_test)"
      ],
      "execution_count": 0,
      "outputs": []
    },
    {
      "cell_type": "code",
      "metadata": {
        "id": "Wpy3SUlai0hZ",
        "colab_type": "code",
        "colab": {
          "base_uri": "https://localhost:8080/",
          "height": 80
        },
        "outputId": "8c581b0a-f422-42e6-e7de-003b1fd74ead"
      },
      "source": [
        "from keras import Sequential\n",
        "from keras.layers import Dense,Dropout\n",
        "from keras.optimizers import Adam\n"
      ],
      "execution_count": 38,
      "outputs": [
        {
          "output_type": "stream",
          "text": [
            "Using TensorFlow backend.\n"
          ],
          "name": "stderr"
        },
        {
          "output_type": "display_data",
          "data": {
            "text/html": [
              "<p style=\"color: red;\">\n",
              "The default version of TensorFlow in Colab will soon switch to TensorFlow 2.x.<br>\n",
              "We recommend you <a href=\"https://www.tensorflow.org/guide/migrate\" target=\"_blank\">upgrade</a> now \n",
              "or ensure your notebook will continue to use TensorFlow 1.x via the <code>%tensorflow_version 1.x</code> magic:\n",
              "<a href=\"https://colab.research.google.com/notebooks/tensorflow_version.ipynb\" target=\"_blank\">more info</a>.</p>\n"
            ],
            "text/plain": [
              "<IPython.core.display.HTML object>"
            ]
          },
          "metadata": {
            "tags": []
          }
        }
      ]
    },
    {
      "cell_type": "markdown",
      "metadata": {
        "id": "AZzk0tKpjWzi",
        "colab_type": "text"
      },
      "source": [
        "#Deep Neural Network"
      ]
    },
    {
      "cell_type": "code",
      "metadata": {
        "id": "mPp40LZeBbCU",
        "colab_type": "code",
        "outputId": "491a073d-b651-4beb-9485-4d6b207a3d6f",
        "colab": {
          "base_uri": "https://localhost:8080/",
          "height": 394
        }
      },
      "source": [
        "\n",
        "model=Sequential()\n",
        "model.add(Dense(128, init=\"uniform\", input_dim=7, activation='relu'))\n",
        "model.add(Dropout(0.5))\n",
        "model.add(Dense(64, init =\"uniform\",activation='relu'))\n",
        "model.add(Dropout(0.4))\n",
        "model.add(Dense(32, init =\"uniform\",activation='relu'))\n",
        "model.add(Dropout(0.3))\n",
        "model.add(Dense(16, init =\"uniform\"))\n",
        "model.add(Dropout(0.1))\n",
        "model.add(Dense(1, init=\"uniform\", activation=\"sigmoid\"))\n",
        "\n"
      ],
      "execution_count": 39,
      "outputs": [
        {
          "output_type": "stream",
          "text": [
            "WARNING:tensorflow:From /usr/local/lib/python3.6/dist-packages/keras/backend/tensorflow_backend.py:66: The name tf.get_default_graph is deprecated. Please use tf.compat.v1.get_default_graph instead.\n",
            "\n",
            "WARNING:tensorflow:From /usr/local/lib/python3.6/dist-packages/keras/backend/tensorflow_backend.py:541: The name tf.placeholder is deprecated. Please use tf.compat.v1.placeholder instead.\n",
            "\n",
            "WARNING:tensorflow:From /usr/local/lib/python3.6/dist-packages/keras/backend/tensorflow_backend.py:4432: The name tf.random_uniform is deprecated. Please use tf.random.uniform instead.\n",
            "\n",
            "WARNING:tensorflow:From /usr/local/lib/python3.6/dist-packages/keras/backend/tensorflow_backend.py:148: The name tf.placeholder_with_default is deprecated. Please use tf.compat.v1.placeholder_with_default instead.\n",
            "\n",
            "WARNING:tensorflow:From /usr/local/lib/python3.6/dist-packages/keras/backend/tensorflow_backend.py:3733: calling dropout (from tensorflow.python.ops.nn_ops) with keep_prob is deprecated and will be removed in a future version.\n",
            "Instructions for updating:\n",
            "Please use `rate` instead of `keep_prob`. Rate should be set to `rate = 1 - keep_prob`.\n"
          ],
          "name": "stdout"
        },
        {
          "output_type": "stream",
          "text": [
            "/usr/local/lib/python3.6/dist-packages/ipykernel_launcher.py:3: UserWarning: Update your `Dense` call to the Keras 2 API: `Dense(128, input_dim=7, activation=\"relu\", kernel_initializer=\"uniform\")`\n",
            "  This is separate from the ipykernel package so we can avoid doing imports until\n",
            "/usr/local/lib/python3.6/dist-packages/ipykernel_launcher.py:5: UserWarning: Update your `Dense` call to the Keras 2 API: `Dense(64, activation=\"relu\", kernel_initializer=\"uniform\")`\n",
            "  \"\"\"\n",
            "/usr/local/lib/python3.6/dist-packages/ipykernel_launcher.py:7: UserWarning: Update your `Dense` call to the Keras 2 API: `Dense(32, activation=\"relu\", kernel_initializer=\"uniform\")`\n",
            "  import sys\n",
            "/usr/local/lib/python3.6/dist-packages/ipykernel_launcher.py:9: UserWarning: Update your `Dense` call to the Keras 2 API: `Dense(16, kernel_initializer=\"uniform\")`\n",
            "  if __name__ == '__main__':\n",
            "/usr/local/lib/python3.6/dist-packages/ipykernel_launcher.py:11: UserWarning: Update your `Dense` call to the Keras 2 API: `Dense(1, activation=\"sigmoid\", kernel_initializer=\"uniform\")`\n",
            "  # This is added back by InteractiveShellApp.init_path()\n"
          ],
          "name": "stderr"
        }
      ]
    },
    {
      "cell_type": "code",
      "metadata": {
        "id": "O_zyYoMZBbAK",
        "colab_type": "code",
        "outputId": "3b553b2d-f24e-4e7f-edd9-1cf421eb7f1a",
        "colab": {
          "base_uri": "https://localhost:8080/",
          "height": 598
        }
      },
      "source": [
        "adam = Adam(lr=0.01)\n",
        "model.compile(loss='binary_crossentropy', optimizer=adam, metrics=['accuracy'])\n",
        "model.summary()"
      ],
      "execution_count": 40,
      "outputs": [
        {
          "output_type": "stream",
          "text": [
            "WARNING:tensorflow:From /usr/local/lib/python3.6/dist-packages/keras/optimizers.py:793: The name tf.train.Optimizer is deprecated. Please use tf.compat.v1.train.Optimizer instead.\n",
            "\n",
            "WARNING:tensorflow:From /usr/local/lib/python3.6/dist-packages/keras/backend/tensorflow_backend.py:3657: The name tf.log is deprecated. Please use tf.math.log instead.\n",
            "\n",
            "WARNING:tensorflow:From /usr/local/lib/python3.6/dist-packages/tensorflow_core/python/ops/nn_impl.py:183: where (from tensorflow.python.ops.array_ops) is deprecated and will be removed in a future version.\n",
            "Instructions for updating:\n",
            "Use tf.where in 2.0, which has the same broadcast rule as np.where\n",
            "Model: \"sequential_1\"\n",
            "_________________________________________________________________\n",
            "Layer (type)                 Output Shape              Param #   \n",
            "=================================================================\n",
            "dense_1 (Dense)              (None, 128)               1024      \n",
            "_________________________________________________________________\n",
            "dropout_1 (Dropout)          (None, 128)               0         \n",
            "_________________________________________________________________\n",
            "dense_2 (Dense)              (None, 64)                8256      \n",
            "_________________________________________________________________\n",
            "dropout_2 (Dropout)          (None, 64)                0         \n",
            "_________________________________________________________________\n",
            "dense_3 (Dense)              (None, 32)                2080      \n",
            "_________________________________________________________________\n",
            "dropout_3 (Dropout)          (None, 32)                0         \n",
            "_________________________________________________________________\n",
            "dense_4 (Dense)              (None, 16)                528       \n",
            "_________________________________________________________________\n",
            "dropout_4 (Dropout)          (None, 16)                0         \n",
            "_________________________________________________________________\n",
            "dense_5 (Dense)              (None, 1)                 17        \n",
            "=================================================================\n",
            "Total params: 11,905\n",
            "Trainable params: 11,905\n",
            "Non-trainable params: 0\n",
            "_________________________________________________________________\n"
          ],
          "name": "stdout"
        }
      ]
    },
    {
      "cell_type": "code",
      "metadata": {
        "id": "EkgcFgeSBqoj",
        "colab_type": "code",
        "outputId": "1ffcc08d-57b6-4483-cefc-1ea440982b3b",
        "colab": {
          "base_uri": "https://localhost:8080/",
          "height": 1000
        }
      },
      "source": [
        "history =model.fit(x_train, y_train, batch_size = 200, nb_epoch = 200)\n"
      ],
      "execution_count": 41,
      "outputs": [
        {
          "output_type": "stream",
          "text": [
            "/usr/local/lib/python3.6/dist-packages/ipykernel_launcher.py:1: UserWarning: The `nb_epoch` argument in `fit` has been renamed `epochs`.\n",
            "  \"\"\"Entry point for launching an IPython kernel.\n"
          ],
          "name": "stderr"
        },
        {
          "output_type": "stream",
          "text": [
            "WARNING:tensorflow:From /usr/local/lib/python3.6/dist-packages/keras/backend/tensorflow_backend.py:1033: The name tf.assign_add is deprecated. Please use tf.compat.v1.assign_add instead.\n",
            "\n",
            "WARNING:tensorflow:From /usr/local/lib/python3.6/dist-packages/keras/backend/tensorflow_backend.py:1020: The name tf.assign is deprecated. Please use tf.compat.v1.assign instead.\n",
            "\n",
            "WARNING:tensorflow:From /usr/local/lib/python3.6/dist-packages/keras/backend/tensorflow_backend.py:3005: The name tf.Session is deprecated. Please use tf.compat.v1.Session instead.\n",
            "\n",
            "Epoch 1/200\n",
            "WARNING:tensorflow:From /usr/local/lib/python3.6/dist-packages/keras/backend/tensorflow_backend.py:190: The name tf.get_default_session is deprecated. Please use tf.compat.v1.get_default_session instead.\n",
            "\n",
            "WARNING:tensorflow:From /usr/local/lib/python3.6/dist-packages/keras/backend/tensorflow_backend.py:197: The name tf.ConfigProto is deprecated. Please use tf.compat.v1.ConfigProto instead.\n",
            "\n",
            "WARNING:tensorflow:From /usr/local/lib/python3.6/dist-packages/keras/backend/tensorflow_backend.py:207: The name tf.global_variables is deprecated. Please use tf.compat.v1.global_variables instead.\n",
            "\n",
            "WARNING:tensorflow:From /usr/local/lib/python3.6/dist-packages/keras/backend/tensorflow_backend.py:216: The name tf.is_variable_initialized is deprecated. Please use tf.compat.v1.is_variable_initialized instead.\n",
            "\n",
            "WARNING:tensorflow:From /usr/local/lib/python3.6/dist-packages/keras/backend/tensorflow_backend.py:223: The name tf.variables_initializer is deprecated. Please use tf.compat.v1.variables_initializer instead.\n",
            "\n",
            "598/598 [==============================] - 1s 1ms/step - loss: 0.6930 - acc: 0.4816\n",
            "Epoch 2/200\n",
            "598/598 [==============================] - 0s 28us/step - loss: 0.6803 - acc: 0.7993\n",
            "Epoch 3/200\n",
            "598/598 [==============================] - 0s 35us/step - loss: 0.5697 - acc: 0.8077\n",
            "Epoch 4/200\n",
            "598/598 [==============================] - 0s 28us/step - loss: 0.4974 - acc: 0.8127\n",
            "Epoch 5/200\n",
            "598/598 [==============================] - 0s 26us/step - loss: 0.4726 - acc: 0.8094\n",
            "Epoch 6/200\n",
            "598/598 [==============================] - 0s 28us/step - loss: 0.4400 - acc: 0.8144\n",
            "Epoch 7/200\n",
            "598/598 [==============================] - 0s 27us/step - loss: 0.4443 - acc: 0.8144\n",
            "Epoch 8/200\n",
            "598/598 [==============================] - 0s 28us/step - loss: 0.4402 - acc: 0.8127\n",
            "Epoch 9/200\n",
            "598/598 [==============================] - 0s 32us/step - loss: 0.4410 - acc: 0.8161\n",
            "Epoch 10/200\n",
            "598/598 [==============================] - 0s 30us/step - loss: 0.4147 - acc: 0.8211\n",
            "Epoch 11/200\n",
            "598/598 [==============================] - 0s 27us/step - loss: 0.4066 - acc: 0.8227\n",
            "Epoch 12/200\n",
            "598/598 [==============================] - 0s 27us/step - loss: 0.4182 - acc: 0.8194\n",
            "Epoch 13/200\n",
            "598/598 [==============================] - 0s 27us/step - loss: 0.4255 - acc: 0.8227\n",
            "Epoch 14/200\n",
            "598/598 [==============================] - 0s 26us/step - loss: 0.4172 - acc: 0.8261\n",
            "Epoch 15/200\n",
            "598/598 [==============================] - 0s 28us/step - loss: 0.4198 - acc: 0.8211\n",
            "Epoch 16/200\n",
            "598/598 [==============================] - 0s 31us/step - loss: 0.4152 - acc: 0.8177\n",
            "Epoch 17/200\n",
            "598/598 [==============================] - 0s 30us/step - loss: 0.3996 - acc: 0.8227\n",
            "Epoch 18/200\n",
            "598/598 [==============================] - 0s 28us/step - loss: 0.4075 - acc: 0.8244\n",
            "Epoch 19/200\n",
            "598/598 [==============================] - 0s 41us/step - loss: 0.3966 - acc: 0.8294\n",
            "Epoch 20/200\n",
            "598/598 [==============================] - 0s 27us/step - loss: 0.4044 - acc: 0.8261\n",
            "Epoch 21/200\n",
            "598/598 [==============================] - 0s 27us/step - loss: 0.4197 - acc: 0.8211\n",
            "Epoch 22/200\n",
            "598/598 [==============================] - 0s 27us/step - loss: 0.4010 - acc: 0.8227\n",
            "Epoch 23/200\n",
            "598/598 [==============================] - 0s 26us/step - loss: 0.3968 - acc: 0.8328\n",
            "Epoch 24/200\n",
            "598/598 [==============================] - 0s 27us/step - loss: 0.4055 - acc: 0.8211\n",
            "Epoch 25/200\n",
            "598/598 [==============================] - 0s 27us/step - loss: 0.4127 - acc: 0.8278\n",
            "Epoch 26/200\n",
            "598/598 [==============================] - 0s 26us/step - loss: 0.4016 - acc: 0.8294\n",
            "Epoch 27/200\n",
            "598/598 [==============================] - 0s 27us/step - loss: 0.3936 - acc: 0.8211\n",
            "Epoch 28/200\n",
            "598/598 [==============================] - 0s 28us/step - loss: 0.3946 - acc: 0.8227\n",
            "Epoch 29/200\n",
            "598/598 [==============================] - 0s 32us/step - loss: 0.4004 - acc: 0.8244\n",
            "Epoch 30/200\n",
            "598/598 [==============================] - 0s 30us/step - loss: 0.3942 - acc: 0.8344\n",
            "Epoch 31/200\n",
            "598/598 [==============================] - 0s 34us/step - loss: 0.3786 - acc: 0.8328\n",
            "Epoch 32/200\n",
            "598/598 [==============================] - 0s 27us/step - loss: 0.3802 - acc: 0.8278\n",
            "Epoch 33/200\n",
            "598/598 [==============================] - 0s 28us/step - loss: 0.3928 - acc: 0.8261\n",
            "Epoch 34/200\n",
            "598/598 [==============================] - 0s 25us/step - loss: 0.3775 - acc: 0.8294\n",
            "Epoch 35/200\n",
            "598/598 [==============================] - 0s 32us/step - loss: 0.3972 - acc: 0.8261\n",
            "Epoch 36/200\n",
            "598/598 [==============================] - 0s 27us/step - loss: 0.3894 - acc: 0.8211\n",
            "Epoch 37/200\n",
            "598/598 [==============================] - 0s 28us/step - loss: 0.3846 - acc: 0.8294\n",
            "Epoch 38/200\n",
            "598/598 [==============================] - 0s 29us/step - loss: 0.3797 - acc: 0.8177\n",
            "Epoch 39/200\n",
            "598/598 [==============================] - 0s 31us/step - loss: 0.3814 - acc: 0.8294\n",
            "Epoch 40/200\n",
            "598/598 [==============================] - 0s 28us/step - loss: 0.3646 - acc: 0.8211\n",
            "Epoch 41/200\n",
            "598/598 [==============================] - 0s 26us/step - loss: 0.3890 - acc: 0.8278\n",
            "Epoch 42/200\n",
            "598/598 [==============================] - 0s 29us/step - loss: 0.3719 - acc: 0.8445\n",
            "Epoch 43/200\n",
            "598/598 [==============================] - 0s 25us/step - loss: 0.3796 - acc: 0.8311\n",
            "Epoch 44/200\n",
            "598/598 [==============================] - 0s 25us/step - loss: 0.3657 - acc: 0.8194\n",
            "Epoch 45/200\n",
            "598/598 [==============================] - 0s 37us/step - loss: 0.3744 - acc: 0.8294\n",
            "Epoch 46/200\n",
            "598/598 [==============================] - 0s 25us/step - loss: 0.3680 - acc: 0.8478\n",
            "Epoch 47/200\n",
            "598/598 [==============================] - 0s 24us/step - loss: 0.3574 - acc: 0.8227\n",
            "Epoch 48/200\n",
            "598/598 [==============================] - 0s 23us/step - loss: 0.3612 - acc: 0.8294\n",
            "Epoch 49/200\n",
            "598/598 [==============================] - 0s 34us/step - loss: 0.3625 - acc: 0.8395\n",
            "Epoch 50/200\n",
            "598/598 [==============================] - 0s 26us/step - loss: 0.3512 - acc: 0.8411\n",
            "Epoch 51/200\n",
            "598/598 [==============================] - 0s 28us/step - loss: 0.3519 - acc: 0.8562\n",
            "Epoch 52/200\n",
            "598/598 [==============================] - 0s 28us/step - loss: 0.3391 - acc: 0.8478\n",
            "Epoch 53/200\n",
            "598/598 [==============================] - 0s 36us/step - loss: 0.3687 - acc: 0.8545\n",
            "Epoch 54/200\n",
            "598/598 [==============================] - 0s 29us/step - loss: 0.3724 - acc: 0.8328\n",
            "Epoch 55/200\n",
            "598/598 [==============================] - 0s 27us/step - loss: 0.3557 - acc: 0.8378\n",
            "Epoch 56/200\n",
            "598/598 [==============================] - 0s 34us/step - loss: 0.3600 - acc: 0.8395\n",
            "Epoch 57/200\n",
            "598/598 [==============================] - 0s 33us/step - loss: 0.3451 - acc: 0.8411\n",
            "Epoch 58/200\n",
            "598/598 [==============================] - 0s 28us/step - loss: 0.3548 - acc: 0.8445\n",
            "Epoch 59/200\n",
            "598/598 [==============================] - 0s 54us/step - loss: 0.3587 - acc: 0.8512\n",
            "Epoch 60/200\n",
            "598/598 [==============================] - 0s 32us/step - loss: 0.3477 - acc: 0.8344\n",
            "Epoch 61/200\n",
            "598/598 [==============================] - 0s 30us/step - loss: 0.3546 - acc: 0.8311\n",
            "Epoch 62/200\n",
            "598/598 [==============================] - 0s 31us/step - loss: 0.3612 - acc: 0.8445\n",
            "Epoch 63/200\n",
            "598/598 [==============================] - 0s 31us/step - loss: 0.3447 - acc: 0.8361\n",
            "Epoch 64/200\n",
            "598/598 [==============================] - 0s 31us/step - loss: 0.3566 - acc: 0.8428\n",
            "Epoch 65/200\n",
            "598/598 [==============================] - 0s 28us/step - loss: 0.3618 - acc: 0.8411\n",
            "Epoch 66/200\n",
            "598/598 [==============================] - 0s 29us/step - loss: 0.3430 - acc: 0.8545\n",
            "Epoch 67/200\n",
            "598/598 [==============================] - 0s 26us/step - loss: 0.3622 - acc: 0.8445\n",
            "Epoch 68/200\n",
            "598/598 [==============================] - 0s 27us/step - loss: 0.3306 - acc: 0.8428\n",
            "Epoch 69/200\n",
            "598/598 [==============================] - 0s 28us/step - loss: 0.3336 - acc: 0.8462\n",
            "Epoch 70/200\n",
            "598/598 [==============================] - 0s 25us/step - loss: 0.3568 - acc: 0.8462\n",
            "Epoch 71/200\n",
            "598/598 [==============================] - 0s 29us/step - loss: 0.3267 - acc: 0.8478\n",
            "Epoch 72/200\n",
            "598/598 [==============================] - 0s 54us/step - loss: 0.3176 - acc: 0.8428\n",
            "Epoch 73/200\n",
            "598/598 [==============================] - 0s 32us/step - loss: 0.3401 - acc: 0.8294\n",
            "Epoch 74/200\n",
            "598/598 [==============================] - 0s 30us/step - loss: 0.3294 - acc: 0.8629\n",
            "Epoch 75/200\n",
            "598/598 [==============================] - 0s 30us/step - loss: 0.3220 - acc: 0.8478\n",
            "Epoch 76/200\n",
            "598/598 [==============================] - 0s 29us/step - loss: 0.3613 - acc: 0.8361\n",
            "Epoch 77/200\n",
            "598/598 [==============================] - 0s 28us/step - loss: 0.3238 - acc: 0.8512\n",
            "Epoch 78/200\n",
            "598/598 [==============================] - 0s 29us/step - loss: 0.3447 - acc: 0.8562\n",
            "Epoch 79/200\n",
            "598/598 [==============================] - 0s 27us/step - loss: 0.3247 - acc: 0.8378\n",
            "Epoch 80/200\n",
            "598/598 [==============================] - 0s 23us/step - loss: 0.3362 - acc: 0.8679\n",
            "Epoch 81/200\n",
            "598/598 [==============================] - 0s 28us/step - loss: 0.3138 - acc: 0.8746\n",
            "Epoch 82/200\n",
            "598/598 [==============================] - 0s 26us/step - loss: 0.3140 - acc: 0.8528\n",
            "Epoch 83/200\n",
            "598/598 [==============================] - 0s 23us/step - loss: 0.3206 - acc: 0.8428\n",
            "Epoch 84/200\n",
            "598/598 [==============================] - 0s 24us/step - loss: 0.3309 - acc: 0.8411\n",
            "Epoch 85/200\n",
            "598/598 [==============================] - 0s 24us/step - loss: 0.3474 - acc: 0.8462\n",
            "Epoch 86/200\n",
            "598/598 [==============================] - 0s 29us/step - loss: 0.3031 - acc: 0.8612\n",
            "Epoch 87/200\n",
            "598/598 [==============================] - 0s 31us/step - loss: 0.3493 - acc: 0.8478\n",
            "Epoch 88/200\n",
            "598/598 [==============================] - 0s 26us/step - loss: 0.3181 - acc: 0.8562\n",
            "Epoch 89/200\n",
            "598/598 [==============================] - 0s 25us/step - loss: 0.3277 - acc: 0.8579\n",
            "Epoch 90/200\n",
            "598/598 [==============================] - 0s 25us/step - loss: 0.3282 - acc: 0.8562\n",
            "Epoch 91/200\n",
            "598/598 [==============================] - 0s 25us/step - loss: 0.3252 - acc: 0.8528\n",
            "Epoch 92/200\n",
            "598/598 [==============================] - 0s 26us/step - loss: 0.3212 - acc: 0.8528\n",
            "Epoch 93/200\n",
            "598/598 [==============================] - 0s 38us/step - loss: 0.3162 - acc: 0.8779\n",
            "Epoch 94/200\n",
            "598/598 [==============================] - 0s 24us/step - loss: 0.3281 - acc: 0.8328\n",
            "Epoch 95/200\n",
            "598/598 [==============================] - 0s 26us/step - loss: 0.3195 - acc: 0.8662\n",
            "Epoch 96/200\n",
            "598/598 [==============================] - 0s 24us/step - loss: 0.3186 - acc: 0.8612\n",
            "Epoch 97/200\n",
            "598/598 [==============================] - 0s 23us/step - loss: 0.3079 - acc: 0.8779\n",
            "Epoch 98/200\n",
            "598/598 [==============================] - 0s 24us/step - loss: 0.3302 - acc: 0.8562\n",
            "Epoch 99/200\n",
            "598/598 [==============================] - 0s 30us/step - loss: 0.2996 - acc: 0.8545\n",
            "Epoch 100/200\n",
            "598/598 [==============================] - 0s 33us/step - loss: 0.3289 - acc: 0.8445\n",
            "Epoch 101/200\n",
            "598/598 [==============================] - 0s 23us/step - loss: 0.2916 - acc: 0.8763\n",
            "Epoch 102/200\n",
            "598/598 [==============================] - 0s 26us/step - loss: 0.3142 - acc: 0.8545\n",
            "Epoch 103/200\n",
            "598/598 [==============================] - 0s 26us/step - loss: 0.3145 - acc: 0.8662\n",
            "Epoch 104/200\n",
            "598/598 [==============================] - 0s 28us/step - loss: 0.3028 - acc: 0.8712\n",
            "Epoch 105/200\n",
            "598/598 [==============================] - 0s 28us/step - loss: 0.3205 - acc: 0.8579\n",
            "Epoch 106/200\n",
            "598/598 [==============================] - 0s 26us/step - loss: 0.2985 - acc: 0.8595\n",
            "Epoch 107/200\n",
            "598/598 [==============================] - 0s 24us/step - loss: 0.3180 - acc: 0.8595\n",
            "Epoch 108/200\n",
            "598/598 [==============================] - 0s 24us/step - loss: 0.2930 - acc: 0.8679\n",
            "Epoch 109/200\n",
            "598/598 [==============================] - 0s 24us/step - loss: 0.3009 - acc: 0.8595\n",
            "Epoch 110/200\n",
            "598/598 [==============================] - 0s 23us/step - loss: 0.3119 - acc: 0.8528\n",
            "Epoch 111/200\n",
            "598/598 [==============================] - 0s 32us/step - loss: 0.2974 - acc: 0.8495\n",
            "Epoch 112/200\n",
            "598/598 [==============================] - 0s 29us/step - loss: 0.2845 - acc: 0.8629\n",
            "Epoch 113/200\n",
            "598/598 [==============================] - 0s 27us/step - loss: 0.2990 - acc: 0.8746\n",
            "Epoch 114/200\n",
            "598/598 [==============================] - 0s 30us/step - loss: 0.3066 - acc: 0.8445\n",
            "Epoch 115/200\n",
            "598/598 [==============================] - 0s 25us/step - loss: 0.3009 - acc: 0.8662\n",
            "Epoch 116/200\n",
            "598/598 [==============================] - 0s 24us/step - loss: 0.2877 - acc: 0.8579\n",
            "Epoch 117/200\n",
            "598/598 [==============================] - 0s 27us/step - loss: 0.3290 - acc: 0.8545\n",
            "Epoch 118/200\n",
            "598/598 [==============================] - 0s 28us/step - loss: 0.3089 - acc: 0.8462\n",
            "Epoch 119/200\n",
            "598/598 [==============================] - 0s 26us/step - loss: 0.3081 - acc: 0.8579\n",
            "Epoch 120/200\n",
            "598/598 [==============================] - 0s 26us/step - loss: 0.3116 - acc: 0.8679\n",
            "Epoch 121/200\n",
            "598/598 [==============================] - 0s 28us/step - loss: 0.2745 - acc: 0.8763\n",
            "Epoch 122/200\n",
            "598/598 [==============================] - 0s 32us/step - loss: 0.3119 - acc: 0.8729\n",
            "Epoch 123/200\n",
            "598/598 [==============================] - 0s 35us/step - loss: 0.2934 - acc: 0.8645\n",
            "Epoch 124/200\n",
            "598/598 [==============================] - 0s 34us/step - loss: 0.3110 - acc: 0.8612\n",
            "Epoch 125/200\n",
            "598/598 [==============================] - 0s 30us/step - loss: 0.2819 - acc: 0.8829\n",
            "Epoch 126/200\n",
            "598/598 [==============================] - 0s 28us/step - loss: 0.2812 - acc: 0.8729\n",
            "Epoch 127/200\n",
            "598/598 [==============================] - 0s 32us/step - loss: 0.2812 - acc: 0.8813\n",
            "Epoch 128/200\n",
            "598/598 [==============================] - 0s 34us/step - loss: 0.2902 - acc: 0.8712\n",
            "Epoch 129/200\n",
            "598/598 [==============================] - 0s 29us/step - loss: 0.2864 - acc: 0.8712\n",
            "Epoch 130/200\n",
            "598/598 [==============================] - 0s 29us/step - loss: 0.2748 - acc: 0.8763\n",
            "Epoch 131/200\n",
            "598/598 [==============================] - 0s 30us/step - loss: 0.3005 - acc: 0.8746\n",
            "Epoch 132/200\n",
            "598/598 [==============================] - 0s 25us/step - loss: 0.2648 - acc: 0.8679\n",
            "Epoch 133/200\n",
            "598/598 [==============================] - 0s 25us/step - loss: 0.3022 - acc: 0.8779\n",
            "Epoch 134/200\n",
            "598/598 [==============================] - 0s 27us/step - loss: 0.3079 - acc: 0.8729\n",
            "Epoch 135/200\n",
            "598/598 [==============================] - 0s 23us/step - loss: 0.2996 - acc: 0.8729\n",
            "Epoch 136/200\n",
            "598/598 [==============================] - 0s 43us/step - loss: 0.2857 - acc: 0.8829\n",
            "Epoch 137/200\n",
            "598/598 [==============================] - 0s 29us/step - loss: 0.2812 - acc: 0.8645\n",
            "Epoch 138/200\n",
            "598/598 [==============================] - 0s 29us/step - loss: 0.2921 - acc: 0.8629\n",
            "Epoch 139/200\n",
            "598/598 [==============================] - 0s 31us/step - loss: 0.2872 - acc: 0.8579\n",
            "Epoch 140/200\n",
            "598/598 [==============================] - 0s 26us/step - loss: 0.3001 - acc: 0.8712\n",
            "Epoch 141/200\n",
            "598/598 [==============================] - 0s 33us/step - loss: 0.2909 - acc: 0.8729\n",
            "Epoch 142/200\n",
            "598/598 [==============================] - 0s 26us/step - loss: 0.2846 - acc: 0.8779\n",
            "Epoch 143/200\n",
            "598/598 [==============================] - 0s 28us/step - loss: 0.2688 - acc: 0.8913\n",
            "Epoch 144/200\n",
            "598/598 [==============================] - 0s 26us/step - loss: 0.2643 - acc: 0.8896\n",
            "Epoch 145/200\n",
            "598/598 [==============================] - 0s 26us/step - loss: 0.2769 - acc: 0.8880\n",
            "Epoch 146/200\n",
            "598/598 [==============================] - 0s 25us/step - loss: 0.2917 - acc: 0.8946\n",
            "Epoch 147/200\n",
            "598/598 [==============================] - 0s 28us/step - loss: 0.2555 - acc: 0.8763\n",
            "Epoch 148/200\n",
            "598/598 [==============================] - 0s 30us/step - loss: 0.2766 - acc: 0.8729\n",
            "Epoch 149/200\n",
            "598/598 [==============================] - 0s 35us/step - loss: 0.2625 - acc: 0.8662\n",
            "Epoch 150/200\n",
            "598/598 [==============================] - 0s 29us/step - loss: 0.2791 - acc: 0.8729\n",
            "Epoch 151/200\n",
            "598/598 [==============================] - 0s 30us/step - loss: 0.2713 - acc: 0.8746\n",
            "Epoch 152/200\n",
            "598/598 [==============================] - 0s 27us/step - loss: 0.2756 - acc: 0.8645\n",
            "Epoch 153/200\n",
            "598/598 [==============================] - 0s 31us/step - loss: 0.2898 - acc: 0.8846\n",
            "Epoch 154/200\n",
            "598/598 [==============================] - 0s 26us/step - loss: 0.2837 - acc: 0.8913\n",
            "Epoch 155/200\n",
            "598/598 [==============================] - 0s 26us/step - loss: 0.2588 - acc: 0.8913\n",
            "Epoch 156/200\n",
            "598/598 [==============================] - 0s 35us/step - loss: 0.2747 - acc: 0.8813\n",
            "Epoch 157/200\n",
            "598/598 [==============================] - 0s 27us/step - loss: 0.3082 - acc: 0.8612\n",
            "Epoch 158/200\n",
            "598/598 [==============================] - 0s 27us/step - loss: 0.2949 - acc: 0.8763\n",
            "Epoch 159/200\n",
            "598/598 [==============================] - 0s 28us/step - loss: 0.2658 - acc: 0.8796\n",
            "Epoch 160/200\n",
            "598/598 [==============================] - 0s 32us/step - loss: 0.2553 - acc: 0.8863\n",
            "Epoch 161/200\n",
            "598/598 [==============================] - 0s 29us/step - loss: 0.3125 - acc: 0.8729\n",
            "Epoch 162/200\n",
            "598/598 [==============================] - 0s 31us/step - loss: 0.2963 - acc: 0.8545\n",
            "Epoch 163/200\n",
            "598/598 [==============================] - 0s 38us/step - loss: 0.2736 - acc: 0.8696\n",
            "Epoch 164/200\n",
            "598/598 [==============================] - 0s 31us/step - loss: 0.2541 - acc: 0.8746\n",
            "Epoch 165/200\n",
            "598/598 [==============================] - 0s 31us/step - loss: 0.2903 - acc: 0.8679\n",
            "Epoch 166/200\n",
            "598/598 [==============================] - 0s 33us/step - loss: 0.2519 - acc: 0.8896\n",
            "Epoch 167/200\n",
            "598/598 [==============================] - 0s 28us/step - loss: 0.2679 - acc: 0.8813\n",
            "Epoch 168/200\n",
            "598/598 [==============================] - 0s 25us/step - loss: 0.2660 - acc: 0.8829\n",
            "Epoch 169/200\n",
            "598/598 [==============================] - 0s 28us/step - loss: 0.2724 - acc: 0.8829\n",
            "Epoch 170/200\n",
            "598/598 [==============================] - 0s 35us/step - loss: 0.2890 - acc: 0.8779\n",
            "Epoch 171/200\n",
            "598/598 [==============================] - 0s 33us/step - loss: 0.2695 - acc: 0.8746\n",
            "Epoch 172/200\n",
            "598/598 [==============================] - 0s 31us/step - loss: 0.2998 - acc: 0.8645\n",
            "Epoch 173/200\n",
            "598/598 [==============================] - 0s 29us/step - loss: 0.2536 - acc: 0.8896\n",
            "Epoch 174/200\n",
            "598/598 [==============================] - 0s 31us/step - loss: 0.2901 - acc: 0.8796\n",
            "Epoch 175/200\n",
            "598/598 [==============================] - 0s 27us/step - loss: 0.2646 - acc: 0.8846\n",
            "Epoch 176/200\n",
            "598/598 [==============================] - 0s 29us/step - loss: 0.2827 - acc: 0.8729\n",
            "Epoch 177/200\n",
            "598/598 [==============================] - 0s 27us/step - loss: 0.2670 - acc: 0.8863\n",
            "Epoch 178/200\n",
            "598/598 [==============================] - 0s 24us/step - loss: 0.2796 - acc: 0.8779\n",
            "Epoch 179/200\n",
            "598/598 [==============================] - 0s 34us/step - loss: 0.2497 - acc: 0.8829\n",
            "Epoch 180/200\n",
            "598/598 [==============================] - 0s 30us/step - loss: 0.2574 - acc: 0.8946\n",
            "Epoch 181/200\n",
            "598/598 [==============================] - 0s 26us/step - loss: 0.2648 - acc: 0.8863\n",
            "Epoch 182/200\n",
            "598/598 [==============================] - 0s 26us/step - loss: 0.2746 - acc: 0.8779\n",
            "Epoch 183/200\n",
            "598/598 [==============================] - 0s 25us/step - loss: 0.2515 - acc: 0.8913\n",
            "Epoch 184/200\n",
            "598/598 [==============================] - 0s 24us/step - loss: 0.3002 - acc: 0.8696\n",
            "Epoch 185/200\n",
            "598/598 [==============================] - 0s 28us/step - loss: 0.2851 - acc: 0.8729\n",
            "Epoch 186/200\n",
            "598/598 [==============================] - 0s 35us/step - loss: 0.2583 - acc: 0.8846\n",
            "Epoch 187/200\n",
            "598/598 [==============================] - 0s 23us/step - loss: 0.2613 - acc: 0.8997\n",
            "Epoch 188/200\n",
            "598/598 [==============================] - 0s 25us/step - loss: 0.2903 - acc: 0.8796\n",
            "Epoch 189/200\n",
            "598/598 [==============================] - 0s 27us/step - loss: 0.2345 - acc: 0.9064\n",
            "Epoch 190/200\n",
            "598/598 [==============================] - 0s 23us/step - loss: 0.2437 - acc: 0.8930\n",
            "Epoch 191/200\n",
            "598/598 [==============================] - 0s 25us/step - loss: 0.2570 - acc: 0.8729\n",
            "Epoch 192/200\n",
            "598/598 [==============================] - 0s 25us/step - loss: 0.2783 - acc: 0.8863\n",
            "Epoch 193/200\n",
            "598/598 [==============================] - 0s 23us/step - loss: 0.2570 - acc: 0.8779\n",
            "Epoch 194/200\n",
            "598/598 [==============================] - 0s 22us/step - loss: 0.2528 - acc: 0.8930\n",
            "Epoch 195/200\n",
            "598/598 [==============================] - 0s 26us/step - loss: 0.2439 - acc: 0.8880\n",
            "Epoch 196/200\n",
            "598/598 [==============================] - 0s 27us/step - loss: 0.2480 - acc: 0.8796\n",
            "Epoch 197/200\n",
            "598/598 [==============================] - 0s 30us/step - loss: 0.2519 - acc: 0.8763\n",
            "Epoch 198/200\n",
            "598/598 [==============================] - 0s 24us/step - loss: 0.2549 - acc: 0.8829\n",
            "Epoch 199/200\n",
            "598/598 [==============================] - 0s 27us/step - loss: 0.2581 - acc: 0.8829\n",
            "Epoch 200/200\n",
            "598/598 [==============================] - 0s 27us/step - loss: 0.2517 - acc: 0.8813\n"
          ],
          "name": "stdout"
        }
      ]
    },
    {
      "cell_type": "code",
      "metadata": {
        "id": "YbB9DJ08b2Dn",
        "colab_type": "code",
        "outputId": "92141caf-917b-4822-bab9-5adf02ae7a04",
        "colab": {
          "base_uri": "https://localhost:8080/",
          "height": 312
        }
      },
      "source": [
        "plt.plot(history.history['loss'])\n",
        "plt.legend(['training'])\n",
        "plt.title('Loss')\n",
        "plt.xlabel('epochs')"
      ],
      "execution_count": 42,
      "outputs": [
        {
          "output_type": "execute_result",
          "data": {
            "text/plain": [
              "Text(0.5, 0, 'epochs')"
            ]
          },
          "metadata": {
            "tags": []
          },
          "execution_count": 42
        },
        {
          "output_type": "display_data",
          "data": {
            "image/png": "[encoded data removed]",
            "text/plain": [
              "<Figure size 432x288 with 1 Axes>"
            ]
          },
          "metadata": {
            "tags": []
          }
        }
      ]
    },
    {
      "cell_type": "code",
      "metadata": {
        "id": "REhAj1IrFdmh",
        "colab_type": "code",
        "colab": {}
      },
      "source": [
        "from keras.models import load_model\n",
        "model1 = load_model('drive/My Drive/model_fi.h5')"
      ],
      "execution_count": 0,
      "outputs": []
    },
    {
      "cell_type": "code",
      "metadata": {
        "id": "Sz4PX91W3tjl",
        "colab_type": "code",
        "outputId": "7d86c760-2dc3-4a40-dd8d-9d705128fcf1",
        "colab": {
          "base_uri": "https://localhost:8080/",
          "height": 85
        }
      },
      "source": [
        "accr = model1.evaluate(x_test,y_test)\n",
        "print('Test set\\n  Loss: {:0.3f}\\n  Accuracy: {:0.1f} %'.format(accr[0],round(accr[1]*100,1)))"
      ],
      "execution_count": 44,
      "outputs": [
        {
          "output_type": "stream",
          "text": [
            "106/106 [==============================] - 0s 968us/step\n",
            "Test set\n",
            "  Loss: 0.135\n",
            "  Accuracy: 92.5 %\n"
          ],
          "name": "stdout"
        }
      ]
    },
    {
      "cell_type": "code",
      "metadata": {
        "id": "HczaGLGBWd6h",
        "colab_type": "code",
        "colab": {}
      },
      "source": [
        ""
      ],
      "execution_count": 0,
      "outputs": []
    }
  ]
}