{
  "nbformat": 4,
  "nbformat_minor": 0,
  "metadata": {
    "colab": {
      "name": "new_foxi.ipynb",
      "provenance": []
    },
    "kernelspec": {
      "name": "python3",
      "display_name": "Python 3"
    },
    "accelerator": "TPU"
  },
  "cells": [
    {
      "cell_type": "code",
      "metadata": {
        "id": "lzOn6cBSxXhA",
        "colab_type": "code",
        "colab": {
          "base_uri": "https://localhost:8080/",
          "height": 34
        },
        "outputId": "9b70bce3-3cba-42fe-a1a8-523bc350374d"
      },
      "source": [
        "import pandas_datareader as pdr\n",
        "import matplotlib.pyplot as plt\n",
        "import pandas as pd\n",
        "import datetime \n",
        "\n",
        "#from tqdm import tqdm_notebook as tqdm\n",
        "from tqdm import tqdm\n",
        "%matplotlib inline\n",
        "%pylab inline\n",
        "pylab.rcParams['figure.figsize'] = (14, 9)   "
      ],
      "execution_count": 9,
      "outputs": [
        {
          "output_type": "stream",
          "text": [
            "Populating the interactive namespace from numpy and matplotlib\n"
          ],
          "name": "stdout"
        }
      ]
    },
    {
      "cell_type": "code",
      "metadata": {
        "id": "aqbxatgp0vN4",
        "colab_type": "code",
        "colab": {
          "base_uri": "https://localhost:8080/",
          "height": 63
        },
        "outputId": "b74870b0-4afe-4a53-b08e-7953a6755f3f"
      },
      "source": [
        "import tensorflow as tf\n",
        "from tensorflow import keras\n",
        "import numpy as np\n",
        "from sklearn.model_selection import train_test_split\n",
        "from sklearn.preprocessing import StandardScaler\n",
        "from datetime import datetime\n"
      ],
      "execution_count": 29,
      "outputs": [
        {
          "output_type": "display_data",
          "data": {
            "text/html": [
              "<p style=\"color: red;\">\n",
              "The default version of TensorFlow in Colab will soon switch to TensorFlow 2.x.<br>\n",
              "We recommend you <a href=\"https://www.tensorflow.org/guide/migrate\" target=\"_blank\">upgrade</a> now \n",
              "or ensure your notebook will continue to use TensorFlow 1.x via the <code>%tensorflow_version 1.x</code> magic:\n",
              "<a href=\"https://colab.research.google.com/notebooks/tensorflow_version.ipynb\" target=\"_blank\">more info</a>.</p>\n"
            ],
            "text/plain": [
              "<IPython.core.display.HTML object>"
            ]
          },
          "metadata": {
            "tags": []
          }
        }
      ]
    },
    {
      "cell_type": "code",
      "metadata": {
        "id": "xBZQl-w_xbt5",
        "colab_type": "code",
        "colab": {
          "base_uri": "https://localhost:8080/",
          "height": 122
        },
        "outputId": "f0a8ba04-d3ba-4322-cdf7-344a23d109c4"
      },
      "source": [
        "# Load the Drive helper and mount\n",
        "from google.colab import drive\n",
        "\n",
        "# This will prompt for authorization.\n",
        "drive.mount('/content/drive')"
      ],
      "execution_count": 10,
      "outputs": [
        {
          "output_type": "stream",
          "text": [
            "Go to this URL in a browser: https://accounts.google.com/o/oauth2/auth?client_id=947318989803-6bn6qk8qdgf4n4g3pfee6491hc0brc4i.apps.googleusercontent.com&redirect_uri=urn%3aietf%3awg%3aoauth%3a2.0%3aoob&response_type=code&scope=email%20https%3a%2f%2fwww.googleapis.com%2fauth%2fdocs.test%20https%3a%2f%2fwww.googleapis.com%2fauth%2fdrive%20https%3a%2f%2fwww.googleapis.com%2fauth%2fdrive.photos.readonly%20https%3a%2f%2fwww.googleapis.com%2fauth%2fpeopleapi.readonly\n",
            "\n",
            "Enter your authorization code:\n",
            "··········\n",
            "Mounted at /content/drive\n"
          ],
          "name": "stdout"
        }
      ]
    },
    {
      "cell_type": "code",
      "metadata": {
        "id": "Gls-ztYjxewX",
        "colab_type": "code",
        "colab": {
          "base_uri": "https://localhost:8080/",
          "height": 204
        },
        "outputId": "90c9f123-bb4d-40f8-9ce3-7429ad262922"
      },
      "source": [
        "data=pd.read_csv('drive/My Drive/EURUSD60.csv')\n",
        "data.head()"
      ],
      "execution_count": 11,
      "outputs": [
        {
          "output_type": "execute_result",
          "data": {
            "text/html": [
              "<div>\n",
              "<style scoped>\n",
              "    .dataframe tbody tr th:only-of-type {\n",
              "        vertical-align: middle;\n",
              "    }\n",
              "\n",
              "    .dataframe tbody tr th {\n",
              "        vertical-align: top;\n",
              "    }\n",
              "\n",
              "    .dataframe thead th {\n",
              "        text-align: right;\n",
              "    }\n",
              "</style>\n",
              "<table border=\"1\" class=\"dataframe\">\n",
              "  <thead>\n",
              "    <tr style=\"text-align: right;\">\n",
              "      <th></th>\n",
              "      <th>Date</th>\n",
              "      <th>Time</th>\n",
              "      <th>Open</th>\n",
              "      <th>High</th>\n",
              "      <th>Low</th>\n",
              "      <th>Close</th>\n",
              "      <th>Volume</th>\n",
              "    </tr>\n",
              "  </thead>\n",
              "  <tbody>\n",
              "    <tr>\n",
              "      <th>0</th>\n",
              "      <td>1999.01.04</td>\n",
              "      <td>10:00</td>\n",
              "      <td>1.1801</td>\n",
              "      <td>1.1819</td>\n",
              "      <td>1.1769</td>\n",
              "      <td>1.1789</td>\n",
              "      <td>388</td>\n",
              "    </tr>\n",
              "    <tr>\n",
              "      <th>1</th>\n",
              "      <td>1999.01.04</td>\n",
              "      <td>11:00</td>\n",
              "      <td>1.1795</td>\n",
              "      <td>1.1819</td>\n",
              "      <td>1.1780</td>\n",
              "      <td>1.1791</td>\n",
              "      <td>490</td>\n",
              "    </tr>\n",
              "    <tr>\n",
              "      <th>2</th>\n",
              "      <td>1999.01.04</td>\n",
              "      <td>12:00</td>\n",
              "      <td>1.1791</td>\n",
              "      <td>1.1803</td>\n",
              "      <td>1.1788</td>\n",
              "      <td>1.1798</td>\n",
              "      <td>278</td>\n",
              "    </tr>\n",
              "    <tr>\n",
              "      <th>3</th>\n",
              "      <td>1999.01.04</td>\n",
              "      <td>13:00</td>\n",
              "      <td>1.1797</td>\n",
              "      <td>1.1804</td>\n",
              "      <td>1.1781</td>\n",
              "      <td>1.1782</td>\n",
              "      <td>364</td>\n",
              "    </tr>\n",
              "    <tr>\n",
              "      <th>4</th>\n",
              "      <td>1999.01.04</td>\n",
              "      <td>14:00</td>\n",
              "      <td>1.1780</td>\n",
              "      <td>1.1820</td>\n",
              "      <td>1.1775</td>\n",
              "      <td>1.1802</td>\n",
              "      <td>482</td>\n",
              "    </tr>\n",
              "  </tbody>\n",
              "</table>\n",
              "</div>"
            ],
            "text/plain": [
              "         Date   Time    Open    High     Low   Close  Volume\n",
              "0  1999.01.04  10:00  1.1801  1.1819  1.1769  1.1789     388\n",
              "1  1999.01.04  11:00  1.1795  1.1819  1.1780  1.1791     490\n",
              "2  1999.01.04  12:00  1.1791  1.1803  1.1788  1.1798     278\n",
              "3  1999.01.04  13:00  1.1797  1.1804  1.1781  1.1782     364\n",
              "4  1999.01.04  14:00  1.1780  1.1820  1.1775  1.1802     482"
            ]
          },
          "metadata": {
            "tags": []
          },
          "execution_count": 11
        }
      ]
    },
    {
      "cell_type": "code",
      "metadata": {
        "id": "mzGWNfFdx3DD",
        "colab_type": "code",
        "colab": {
          "base_uri": "https://localhost:8080/",
          "height": 500
        },
        "outputId": "95bdb431-50dc-41b7-c217-16de06785ea3"
      },
      "source": [
        "\n",
        "f, ax = plt.subplots(figsize=(11,8))\n",
        "\n",
        "data['Close'].plot(grid = True)"
      ],
      "execution_count": 12,
      "outputs": [
        {
          "output_type": "execute_result",
          "data": {
            "text/plain": [
              "<matplotlib.axes._subplots.AxesSubplot at 0x7fa6187fc710>"
            ]
          },
          "metadata": {
            "tags": []
          },
          "execution_count": 12
        },
        {
          "output_type": "display_data",
          "data": {
            "image/png": "[encoded data removed]",
            "text/plain": [
              "<Figure size 792x576 with 1 Axes>"
            ]
          },
          "metadata": {
            "tags": []
          }
        }
      ]
    },
    {
      "cell_type": "code",
      "metadata": {
        "id": "JdvNWyRwxeqM",
        "colab_type": "code",
        "colab": {}
      },
      "source": [
        "\n",
        "# Fast moving window rolling mean\n",
        "data['fast'] = data['Close'].rolling(window=2).mean()\n",
        "# Short moving window rolling mean\n",
        "data['slow'] = data['Close'].rolling(window=8).mean()"
      ],
      "execution_count": 0,
      "outputs": []
    },
    {
      "cell_type": "code",
      "metadata": {
        "id": "p1zlCX-6xh5V",
        "colab_type": "code",
        "colab": {}
      },
      "source": [
        "def get_up_cross(df):\n",
        "    crit1 = df.fast.shift(1) < df.slow.shift(1)\n",
        "    crit2 = df.fast > df.slow\n",
        "    return df.fast[(crit1) & (crit2)]\n",
        "\n",
        "def get_down_cross(df):\n",
        "    crit1 = df.fast.shift(1) > df.slow.shift(1)\n",
        "    crit2 = df.fast < df.slow\n",
        "    return df.fast[(crit1) & (crit2)]"
      ],
      "execution_count": 0,
      "outputs": []
    },
    {
      "cell_type": "code",
      "metadata": {
        "id": "eJNRYmizzM-C",
        "colab_type": "code",
        "colab": {
          "base_uri": "https://localhost:8080/",
          "height": 537
        },
        "outputId": "8306e43b-9b04-4455-9711-ed90844bf475"
      },
      "source": [
        "up = get_up_cross(data)\n",
        "down = get_down_cross(data)\n",
        "\n",
        "f, ax = plt.subplots(figsize=(11,8))\n",
        "\n",
        "# Plot the adjusted closing price, the short and long windows of rolling means\n",
        "data[['Close', 'fast', 'slow']].plot(ax=ax, grid=True)\n",
        "\n",
        "up.plot(ax=ax,ls='',marker='^', markersize=7,\n",
        "                     alpha=0.75, label='upcross', color='g')\n",
        "down.plot(ax=ax,ls='',marker='v', markersize=7, \n",
        "                       alpha=0.75, label='downcross', color='r')\n",
        "\n",
        "ax.legend()"
      ],
      "execution_count": 18,
      "outputs": [
        {
          "output_type": "execute_result",
          "data": {
            "text/plain": [
              "<matplotlib.legend.Legend at 0x7fa618259ba8>"
            ]
          },
          "metadata": {
            "tags": []
          },
          "execution_count": 18
        },
        {
          "output_type": "stream",
          "text": [
            "/usr/local/lib/python3.6/dist-packages/IPython/core/pylabtools.py:125: UserWarning: Creating legend with loc=\"best\" can be slow with large amounts of data.\n",
            "  fig.canvas.print_figure(bytes_io, **kw)\n"
          ],
          "name": "stderr"
        },
        {
          "output_type": "display_data",
          "data": {
            "image/png": "[encoded data removed]",
            "text/plain": [
              "<Figure size 792x576 with 1 Axes>"
            ]
          },
          "metadata": {
            "tags": []
          }
        }
      ]
    },
    {
      "cell_type": "code",
      "metadata": {
        "id": "CJOpNOQHzP9u",
        "colab_type": "code",
        "colab": {
          "base_uri": "https://localhost:8080/",
          "height": 51
        },
        "outputId": "aa1d5f97-e969-4681-939b-9dd9c99d05ac"
      },
      "source": [
        "display(len(up.index), len(down.index))"
      ],
      "execution_count": 19,
      "outputs": [
        {
          "output_type": "display_data",
          "data": {
            "text/plain": [
              "10536"
            ]
          },
          "metadata": {
            "tags": []
          }
        },
        {
          "output_type": "display_data",
          "data": {
            "text/plain": [
              "10537"
            ]
          },
          "metadata": {
            "tags": []
          }
        }
      ]
    },
    {
      "cell_type": "code",
      "metadata": {
        "id": "elZ4ChJszdUc",
        "colab_type": "code",
        "colab": {
          "base_uri": "https://localhost:8080/",
          "height": 136
        },
        "outputId": "7db3c8df-15cd-42f0-bf00-bac68cdb31af"
      },
      "source": [
        "# Creates a labebls\n",
        "side_up = pd.Series(1, index=up.index).dropna()\n",
        "side_down = pd.Series(-1, index=down.index).dropna()\n",
        "side = pd.concat([side_up,side_down]).sort_index()\n",
        "display(side[:5], side.shape)"
      ],
      "execution_count": 20,
      "outputs": [
        {
          "output_type": "display_data",
          "data": {
            "text/plain": [
              "14   -1\n",
              "20    1\n",
              "25   -1\n",
              "34    1\n",
              "35   -1\n",
              "dtype: int64"
            ]
          },
          "metadata": {
            "tags": []
          }
        },
        {
          "output_type": "display_data",
          "data": {
            "text/plain": [
              "(21073,)"
            ]
          },
          "metadata": {
            "tags": []
          }
        }
      ]
    },
    {
      "cell_type": "code",
      "metadata": {
        "id": "Mji0IZBIzhaK",
        "colab_type": "code",
        "colab": {
          "base_uri": "https://localhost:8080/",
          "height": 34
        },
        "outputId": "e60550b6-3ae8-4d99-8deb-9f069e2b3408"
      },
      "source": [
        "crossEvents = side.index\n",
        "crossEvents.values"
      ],
      "execution_count": 21,
      "outputs": [
        {
          "output_type": "execute_result",
          "data": {
            "text/plain": [
              "array([    14,     20,     25, ..., 129921, 129928, 129929])"
            ]
          },
          "metadata": {
            "tags": []
          },
          "execution_count": 21
        }
      ]
    },
    {
      "cell_type": "code",
      "metadata": {
        "id": "_rkbQEb6zkOl",
        "colab_type": "code",
        "colab": {
          "base_uri": "https://localhost:8080/",
          "height": 119
        },
        "outputId": "86ddbf9a-8b59-463b-a7ee-652c4c558f19"
      },
      "source": [
        "adj_close = data['Close']\n",
        "adj_close[:5]"
      ],
      "execution_count": 22,
      "outputs": [
        {
          "output_type": "execute_result",
          "data": {
            "text/plain": [
              "0    1.1789\n",
              "1    1.1791\n",
              "2    1.1798\n",
              "3    1.1782\n",
              "4    1.1802\n",
              "Name: Close, dtype: float64"
            ]
          },
          "metadata": {
            "tags": []
          },
          "execution_count": 22
        }
      ]
    },
    {
      "cell_type": "code",
      "metadata": {
        "id": "2z5_pQMzzrM9",
        "colab_type": "code",
        "colab": {}
      },
      "source": [
        "def metaLabling(close, startEvents, side, verticalBarrier , SL = 0.010, TP = 0.015):\n",
        "    \n",
        "    \n",
        "    \"\"\"\n",
        "    Meta Labling Funcion:\n",
        "    ====================\n",
        "    params : \n",
        "        - close : numpy_array\n",
        "        - start events : numpy_array (Cross evet)\n",
        "        - side : numpy_array\n",
        "        - verticalBarrier:\n",
        "        - Stop Loss : SL \n",
        "        - Take Profit : TP\n",
        "\n",
        "    returns :\n",
        "        - first touched level \n",
        "        - row return \n",
        "        - percent return \n",
        "        - side of the position\n",
        "    \"\"\"\n",
        "    \n",
        "    if verticalBarrier is None:\n",
        "        verticalBarrier = pd.Series(close.index[-1], index=startEvents)\n",
        "\n",
        "\n",
        "    ret = pd.DataFrame(columns=['touch_tp', 'raw_return', 'p_return', 'side'], index=startEvents)\n",
        "    t_touch = 0\n",
        "    r_ret = 0\n",
        "    p_ret = 0\n",
        "    \n",
        "    for t0 in tqdm(startEvents):\n",
        "   # for t0 in startEvents:\n",
        "        window = close[t0:verticalBarrier[t0]]\n",
        "        \n",
        "        if(side[t0] == 1):\n",
        "            trgHi = close[t0] * TP  # 1.5% * Close 200 * .015 =>  3 $ \n",
        "            trgLow = close[t0] * SL # 1% * Close 200*.01  => 2 $\n",
        "        else:\n",
        "            trgHi = close[t0] * SL # 1% * Close\n",
        "            trgLow = close[t0] * TP # 1.5% * Close\n",
        "        \n",
        "        fabove = window >= (trgHi+close[t0]) # Higher Than Highest : [True,False,False,True,...] 203$ ?\n",
        "        fbelow = window <= (close[t0]-trgLow)# Lower Than Lowest : [True,False,False,True,...] 198 ?\n",
        "        \n",
        "        hiTouch = window[fabove].index.min()\n",
        "        lowTouch = window[fbelow].index.min()\n",
        "        \n",
        "        #print('ht',(hiTouch))\n",
        "        #print('lt',(lowTouch))\n",
        "        \n",
        "        if ((pd.isnull(hiTouch)) and (pd.isnull(lowTouch))):\n",
        "            #display('vertical barrier or infinit')\n",
        "            t_touch = 0\n",
        "            r_ret = close[verticalBarrier[t0]]\n",
        "            \n",
        "        elif (pd.isnull(hiTouch) and (not pd.isnull(lowTouch))):\n",
        "            #display('low touch')\n",
        "            t_touch = -1 \n",
        "            r_ret = close[lowTouch]\n",
        "        elif (not pd.isnull(hiTouch) and (pd.isnull(lowTouch))):\n",
        "            #display('hi touch')\n",
        "            t_touch = 1 \n",
        "            r_ret = close[hiTouch]\n",
        "        elif(hiTouch < lowTouch):\n",
        "            #display('HI')\n",
        "            t_touch = 1\n",
        "            r_ret = close[hiTouch]\n",
        "        else:\n",
        "           # display('LOW')\n",
        "            t_touch = -1\n",
        "            r_ret = close[lowTouch]\n",
        "\n",
        "            \n",
        "        ret.loc[t0].touch_tp = t_touch * side[t0]\n",
        "        ret.loc[t0].raw_return = abs(r_ret - close[t0]) * ret.loc[t0].touch_tp\n",
        "        ret.loc[t0].p_return = abs(r_ret / close[t0] - 1 ) * ret.loc[t0].touch_tp\n",
        "        ret.loc[t0].side = side[t0]\n",
        "\n",
        "        \n",
        "    return ret"
      ],
      "execution_count": 0,
      "outputs": []
    },
    {
      "cell_type": "code",
      "metadata": {
        "id": "XW7D3d5CzyIw",
        "colab_type": "code",
        "colab": {
          "base_uri": "https://localhost:8080/",
          "height": 376
        },
        "outputId": "d6bb1d85-3fec-4a0c-9e16-2b54ad20744b"
      },
      "source": [
        "df_met = metaLabling(adj_close, crossEvents, side, None, 0.10, 0.25)\n",
        "df_met.head(10)"
      ],
      "execution_count": 24,
      "outputs": [
        {
          "output_type": "stream",
          "text": [
            "100%|██████████| 21073/21073 [01:12<00:00, 291.90it/s]\n"
          ],
          "name": "stderr"
        },
        {
          "output_type": "execute_result",
          "data": {
            "text/html": [
              "<div>\n",
              "<style scoped>\n",
              "    .dataframe tbody tr th:only-of-type {\n",
              "        vertical-align: middle;\n",
              "    }\n",
              "\n",
              "    .dataframe tbody tr th {\n",
              "        vertical-align: top;\n",
              "    }\n",
              "\n",
              "    .dataframe thead th {\n",
              "        text-align: right;\n",
              "    }\n",
              "</style>\n",
              "<table border=\"1\" class=\"dataframe\">\n",
              "  <thead>\n",
              "    <tr style=\"text-align: right;\">\n",
              "      <th></th>\n",
              "      <th>touch_tp</th>\n",
              "      <th>raw_return</th>\n",
              "      <th>p_return</th>\n",
              "      <th>side</th>\n",
              "    </tr>\n",
              "  </thead>\n",
              "  <tbody>\n",
              "    <tr>\n",
              "      <th>14</th>\n",
              "      <td>1</td>\n",
              "      <td>0.2955</td>\n",
              "      <td>0.250042</td>\n",
              "      <td>-1</td>\n",
              "    </tr>\n",
              "    <tr>\n",
              "      <th>20</th>\n",
              "      <td>-1</td>\n",
              "      <td>-0.119</td>\n",
              "      <td>-0.100711</td>\n",
              "      <td>1</td>\n",
              "    </tr>\n",
              "    <tr>\n",
              "      <th>25</th>\n",
              "      <td>1</td>\n",
              "      <td>0.296</td>\n",
              "      <td>0.250762</td>\n",
              "      <td>-1</td>\n",
              "    </tr>\n",
              "    <tr>\n",
              "      <th>34</th>\n",
              "      <td>-1</td>\n",
              "      <td>-0.118</td>\n",
              "      <td>-0.100212</td>\n",
              "      <td>1</td>\n",
              "    </tr>\n",
              "    <tr>\n",
              "      <th>35</th>\n",
              "      <td>1</td>\n",
              "      <td>0.2941</td>\n",
              "      <td>0.250085</td>\n",
              "      <td>-1</td>\n",
              "    </tr>\n",
              "    <tr>\n",
              "      <th>43</th>\n",
              "      <td>-1</td>\n",
              "      <td>-0.1176</td>\n",
              "      <td>-0.100153</td>\n",
              "      <td>1</td>\n",
              "    </tr>\n",
              "    <tr>\n",
              "      <th>50</th>\n",
              "      <td>1</td>\n",
              "      <td>0.295</td>\n",
              "      <td>0.251513</td>\n",
              "      <td>-1</td>\n",
              "    </tr>\n",
              "    <tr>\n",
              "      <th>60</th>\n",
              "      <td>-1</td>\n",
              "      <td>-0.1173</td>\n",
              "      <td>-0.100895</td>\n",
              "      <td>1</td>\n",
              "    </tr>\n",
              "    <tr>\n",
              "      <th>71</th>\n",
              "      <td>1</td>\n",
              "      <td>0.2959</td>\n",
              "      <td>0.253687</td>\n",
              "      <td>-1</td>\n",
              "    </tr>\n",
              "    <tr>\n",
              "      <th>72</th>\n",
              "      <td>-1</td>\n",
              "      <td>-0.1188</td>\n",
              "      <td>-0.101591</td>\n",
              "      <td>1</td>\n",
              "    </tr>\n",
              "  </tbody>\n",
              "</table>\n",
              "</div>"
            ],
            "text/plain": [
              "   touch_tp raw_return  p_return side\n",
              "14        1     0.2955  0.250042   -1\n",
              "20       -1     -0.119 -0.100711    1\n",
              "25        1      0.296  0.250762   -1\n",
              "34       -1     -0.118 -0.100212    1\n",
              "35        1     0.2941  0.250085   -1\n",
              "43       -1    -0.1176 -0.100153    1\n",
              "50        1      0.295  0.251513   -1\n",
              "60       -1    -0.1173 -0.100895    1\n",
              "71        1     0.2959  0.253687   -1\n",
              "72       -1    -0.1188 -0.101591    1"
            ]
          },
          "metadata": {
            "tags": []
          },
          "execution_count": 24
        }
      ]
    },
    {
      "cell_type": "code",
      "metadata": {
        "id": "zRiz04-vz1U9",
        "colab_type": "code",
        "colab": {
          "base_uri": "https://localhost:8080/",
          "height": 34
        },
        "outputId": "043901d2-adbe-4ef7-e19e-89d4d333c266"
      },
      "source": [
        "n_data = pd.merge(data, df_met, left_index=True, right_index=True)\n",
        "n_data.shape"
      ],
      "execution_count": 25,
      "outputs": [
        {
          "output_type": "execute_result",
          "data": {
            "text/plain": [
              "(21073, 13)"
            ]
          },
          "metadata": {
            "tags": []
          },
          "execution_count": 25
        }
      ]
    },
    {
      "cell_type": "code",
      "metadata": {
        "id": "mJQrGWUH0OAk",
        "colab_type": "code",
        "colab": {
          "base_uri": "https://localhost:8080/",
          "height": 170
        },
        "outputId": "eb4b7d7a-e5cb-4038-eb17-258f4b7eaf08"
      },
      "source": [
        "display(\"before:\", n_data.touch_tp.value_counts())\n",
        "f = n_data.raw_return < 0.10\n",
        "n_data.loc[f,'touch_tp'] = 0\n",
        "f = n_data.touch_tp == -1\n",
        "n_data.loc[f,'touch_tp'] = 0\n",
        "n_data[f].head()\n",
        "display(\"after:\", n_data.touch_tp.value_counts())"
      ],
      "execution_count": 26,
      "outputs": [
        {
          "output_type": "display_data",
          "data": {
            "text/plain": [
              "'before:'"
            ]
          },
          "metadata": {
            "tags": []
          }
        },
        {
          "output_type": "display_data",
          "data": {
            "text/plain": [
              "-1    11825\n",
              " 0     5079\n",
              " 1     4169\n",
              "Name: touch_tp, dtype: int64"
            ]
          },
          "metadata": {
            "tags": []
          }
        },
        {
          "output_type": "display_data",
          "data": {
            "text/plain": [
              "'after:'"
            ]
          },
          "metadata": {
            "tags": []
          }
        },
        {
          "output_type": "display_data",
          "data": {
            "text/plain": [
              "0    16904\n",
              "1     4169\n",
              "Name: touch_tp, dtype: int64"
            ]
          },
          "metadata": {
            "tags": []
          }
        }
      ]
    },
    {
      "cell_type": "code",
      "metadata": {
        "id": "9m0yAniA0a9v",
        "colab_type": "code",
        "colab": {
          "base_uri": "https://localhost:8080/",
          "height": 34
        },
        "outputId": "57b121ed-f832-4832-fe7f-ac63d1817f38"
      },
      "source": [
        "X = n_data[['Volume', 'Close', 'fast', 'slow', 'side']]\n",
        "y = n_data.touch_tp\n",
        "X.shape"
      ],
      "execution_count": 28,
      "outputs": [
        {
          "output_type": "execute_result",
          "data": {
            "text/plain": [
              "(21073, 5)"
            ]
          },
          "metadata": {
            "tags": []
          },
          "execution_count": 28
        }
      ]
    },
    {
      "cell_type": "code",
      "metadata": {
        "id": "t-RJ2h7F0mhJ",
        "colab_type": "code",
        "colab": {}
      },
      "source": [
        "scaler = StandardScaler()\n",
        "Xs = scaler.fit_transform(X)\n",
        "X_train, X_test, y_train, y_test = train_test_split(Xs, np.array(y), test_size=0.10, random_state=42, shuffle=False)"
      ],
      "execution_count": 0,
      "outputs": []
    },
    {
      "cell_type": "code",
      "metadata": {
        "id": "-Ayx2BD307LU",
        "colab_type": "code",
        "colab": {
          "base_uri": "https://localhost:8080/",
          "height": 136
        },
        "outputId": "b586db72-8cbf-4aed-df38-1cc7b4b62f70"
      },
      "source": [
        "  Xs"
      ],
      "execution_count": 31,
      "outputs": [
        {
          "output_type": "execute_result",
          "data": {
            "text/plain": [
              "array([[-0.76713207, -0.11475359, -0.11568578, -0.11280228, -0.99995255],\n",
              "       [-0.66403879, -0.11595213, -0.11748359, -0.1178958 ,  1.00004746],\n",
              "       [-0.62684435, -0.12314336, -0.11838249, -0.11669733, -0.99995255],\n",
              "       ...,\n",
              "       [-0.49545094, -0.52333544, -0.52229037, -0.52146014, -0.99995255],\n",
              "       [ 1.34931248, -0.52201705, -0.52402826, -0.52502561,  1.00004746],\n",
              "       [ 1.62948364, -0.53016711, -0.5261257 , -0.52587952, -0.99995255]])"
            ]
          },
          "metadata": {
            "tags": []
          },
          "execution_count": 31
        }
      ]
    },
    {
      "cell_type": "code",
      "metadata": {
        "id": "LeKzy3B409vH",
        "colab_type": "code",
        "colab": {
          "base_uri": "https://localhost:8080/",
          "height": 428
        },
        "outputId": "ca49fa1c-5f4e-4555-a4f1-2d34bf727a9a"
      },
      "source": [
        "from keras.models import Sequential\n",
        "from keras.layers import Dense\n",
        "\n",
        "model=Sequential()\n",
        "model.add(Dense(5, activation='relu',input_shape=(5,)))\n",
        "model.add(Dense(10, activation='relu'))\n",
        "model.add(Dense(5, activation='relu'))\n",
        "model.add(Dense(1, activation='sigmoid'))\n",
        "\n",
        "model.compile(optimizer='adam', loss='binary_crossentropy',metrics=['acc'])\n",
        "model.summary()"
      ],
      "execution_count": 36,
      "outputs": [
        {
          "output_type": "stream",
          "text": [
            "WARNING:tensorflow:From /usr/local/lib/python3.6/dist-packages/keras/optimizers.py:793: The name tf.train.Optimizer is deprecated. Please use tf.compat.v1.train.Optimizer instead.\n",
            "\n",
            "WARNING:tensorflow:From /usr/local/lib/python3.6/dist-packages/keras/backend/tensorflow_backend.py:3657: The name tf.log is deprecated. Please use tf.math.log instead.\n",
            "\n",
            "WARNING:tensorflow:From /usr/local/lib/python3.6/dist-packages/tensorflow_core/python/ops/nn_impl.py:183: where (from tensorflow.python.ops.array_ops) is deprecated and will be removed in a future version.\n",
            "Instructions for updating:\n",
            "Use tf.where in 2.0, which has the same broadcast rule as np.where\n",
            "Model: \"sequential_2\"\n",
            "_________________________________________________________________\n",
            "Layer (type)                 Output Shape              Param #   \n",
            "=================================================================\n",
            "dense_2 (Dense)              (None, 5)                 30        \n",
            "_________________________________________________________________\n",
            "dense_3 (Dense)              (None, 10)                60        \n",
            "_________________________________________________________________\n",
            "dense_4 (Dense)              (None, 5)                 55        \n",
            "_________________________________________________________________\n",
            "dense_5 (Dense)              (None, 1)                 6         \n",
            "=================================================================\n",
            "Total params: 151\n",
            "Trainable params: 151\n",
            "Non-trainable params: 0\n",
            "_________________________________________________________________\n"
          ],
          "name": "stdout"
        }
      ]
    },
    {
      "cell_type": "code",
      "metadata": {
        "id": "OOYhrbFC1A9A",
        "colab_type": "code",
        "colab": {
          "base_uri": "https://localhost:8080/",
          "height": 1000
        },
        "outputId": "6540e748-80a3-4e77-c797-520d5470446d"
      },
      "source": [
        "model.fit(X_train, y_train, epochs=100 , validation_split=0.1, shuffle=False , verbose=2)"
      ],
      "execution_count": 37,
      "outputs": [
        {
          "output_type": "stream",
          "text": [
            "WARNING:tensorflow:From /usr/local/lib/python3.6/dist-packages/keras/backend/tensorflow_backend.py:1033: The name tf.assign_add is deprecated. Please use tf.compat.v1.assign_add instead.\n",
            "\n",
            "WARNING:tensorflow:From /usr/local/lib/python3.6/dist-packages/keras/backend/tensorflow_backend.py:1020: The name tf.assign is deprecated. Please use tf.compat.v1.assign instead.\n",
            "\n",
            "WARNING:tensorflow:From /usr/local/lib/python3.6/dist-packages/keras/backend/tensorflow_backend.py:3005: The name tf.Session is deprecated. Please use tf.compat.v1.Session instead.\n",
            "\n",
            "Train on 17068 samples, validate on 1897 samples\n",
            "Epoch 1/100\n",
            "WARNING:tensorflow:From /usr/local/lib/python3.6/dist-packages/keras/backend/tensorflow_backend.py:190: The name tf.get_default_session is deprecated. Please use tf.compat.v1.get_default_session instead.\n",
            "\n",
            "WARNING:tensorflow:From /usr/local/lib/python3.6/dist-packages/keras/backend/tensorflow_backend.py:197: The name tf.ConfigProto is deprecated. Please use tf.compat.v1.ConfigProto instead.\n",
            "\n",
            "WARNING:tensorflow:From /usr/local/lib/python3.6/dist-packages/keras/backend/tensorflow_backend.py:207: The name tf.global_variables is deprecated. Please use tf.compat.v1.global_variables instead.\n",
            "\n",
            "WARNING:tensorflow:From /usr/local/lib/python3.6/dist-packages/keras/backend/tensorflow_backend.py:216: The name tf.is_variable_initialized is deprecated. Please use tf.compat.v1.is_variable_initialized instead.\n",
            "\n",
            "WARNING:tensorflow:From /usr/local/lib/python3.6/dist-packages/keras/backend/tensorflow_backend.py:223: The name tf.variables_initializer is deprecated. Please use tf.compat.v1.variables_initializer instead.\n",
            "\n",
            " - 1s - loss: 0.4509 - acc: 0.8459 - val_loss: 0.0621 - val_acc: 1.0000\n",
            "Epoch 2/100\n",
            " - 1s - loss: 0.2688 - acc: 0.9146 - val_loss: 0.0675 - val_acc: 0.9815\n",
            "Epoch 3/100\n",
            " - 1s - loss: 0.2574 - acc: 0.9017 - val_loss: 0.1050 - val_acc: 0.9489\n",
            "Epoch 4/100\n",
            " - 1s - loss: 0.2741 - acc: 0.8938 - val_loss: 0.1168 - val_acc: 0.9431\n",
            "Epoch 5/100\n",
            " - 1s - loss: 0.2838 - acc: 0.8852 - val_loss: 0.1202 - val_acc: 0.9404\n",
            "Epoch 6/100\n",
            " - 1s - loss: 0.2921 - acc: 0.8762 - val_loss: 0.1103 - val_acc: 0.9431\n",
            "Epoch 7/100\n",
            " - 1s - loss: 0.2668 - acc: 0.8996 - val_loss: 0.1066 - val_acc: 0.9410\n",
            "Epoch 8/100\n",
            " - 1s - loss: 0.2557 - acc: 0.9019 - val_loss: 0.1097 - val_acc: 0.9373\n",
            "Epoch 9/100\n",
            " - 1s - loss: 0.2527 - acc: 0.9030 - val_loss: 0.1066 - val_acc: 0.9378\n",
            "Epoch 10/100\n",
            " - 1s - loss: 0.2456 - acc: 0.9038 - val_loss: 0.1060 - val_acc: 0.9378\n",
            "Epoch 11/100\n",
            " - 1s - loss: 0.2415 - acc: 0.9039 - val_loss: 0.1051 - val_acc: 0.9378\n",
            "Epoch 12/100\n",
            " - 1s - loss: 0.2384 - acc: 0.9037 - val_loss: 0.1062 - val_acc: 0.9357\n",
            "Epoch 13/100\n",
            " - 1s - loss: 0.2364 - acc: 0.9039 - val_loss: 0.1073 - val_acc: 0.9341\n",
            "Epoch 14/100\n",
            " - 1s - loss: 0.2339 - acc: 0.9037 - val_loss: 0.1085 - val_acc: 0.9336\n",
            "Epoch 15/100\n",
            " - 1s - loss: 0.2322 - acc: 0.9034 - val_loss: 0.1091 - val_acc: 0.9341\n",
            "Epoch 16/100\n",
            " - 1s - loss: 0.2303 - acc: 0.9037 - val_loss: 0.1091 - val_acc: 0.9331\n",
            "Epoch 17/100\n",
            " - 1s - loss: 0.2287 - acc: 0.9038 - val_loss: 0.1090 - val_acc: 0.9331\n",
            "Epoch 18/100\n",
            " - 1s - loss: 0.2270 - acc: 0.9037 - val_loss: 0.1092 - val_acc: 0.9336\n",
            "Epoch 19/100\n",
            " - 1s - loss: 0.2255 - acc: 0.9039 - val_loss: 0.1084 - val_acc: 0.9336\n",
            "Epoch 20/100\n",
            " - 1s - loss: 0.2241 - acc: 0.9044 - val_loss: 0.1070 - val_acc: 0.9357\n",
            "Epoch 21/100\n",
            " - 1s - loss: 0.2228 - acc: 0.9045 - val_loss: 0.1047 - val_acc: 0.9362\n",
            "Epoch 22/100\n",
            " - 1s - loss: 0.2214 - acc: 0.9046 - val_loss: 0.1033 - val_acc: 0.9373\n",
            "Epoch 23/100\n",
            " - 1s - loss: 0.2203 - acc: 0.9046 - val_loss: 0.1020 - val_acc: 0.9373\n",
            "Epoch 24/100\n",
            " - 1s - loss: 0.2191 - acc: 0.9050 - val_loss: 0.0999 - val_acc: 0.9389\n",
            "Epoch 25/100\n",
            " - 1s - loss: 0.2183 - acc: 0.9051 - val_loss: 0.0974 - val_acc: 0.9420\n",
            "Epoch 26/100\n",
            " - 1s - loss: 0.2173 - acc: 0.9056 - val_loss: 0.0939 - val_acc: 0.9446\n",
            "Epoch 27/100\n",
            " - 1s - loss: 0.2165 - acc: 0.9058 - val_loss: 0.0908 - val_acc: 0.9462\n",
            "Epoch 28/100\n",
            " - 1s - loss: 0.2156 - acc: 0.9060 - val_loss: 0.0874 - val_acc: 0.9494\n",
            "Epoch 29/100\n",
            " - 1s - loss: 0.2145 - acc: 0.9061 - val_loss: 0.0833 - val_acc: 0.9510\n",
            "Epoch 30/100\n",
            " - 1s - loss: 0.2117 - acc: 0.9067 - val_loss: 0.0781 - val_acc: 0.9552\n",
            "Epoch 31/100\n",
            " - 1s - loss: 0.2097 - acc: 0.9070 - val_loss: 0.0709 - val_acc: 0.9568\n",
            "Epoch 32/100\n",
            " - 1s - loss: 0.2081 - acc: 0.9075 - val_loss: 0.0665 - val_acc: 0.9605\n",
            "Epoch 33/100\n",
            " - 1s - loss: 0.2058 - acc: 0.9081 - val_loss: 0.0602 - val_acc: 0.9652\n",
            "Epoch 34/100\n",
            " - 1s - loss: 0.2028 - acc: 0.9094 - val_loss: 0.0536 - val_acc: 0.9684\n",
            "Epoch 35/100\n",
            " - 1s - loss: 0.1986 - acc: 0.9109 - val_loss: 0.0496 - val_acc: 0.9705\n",
            "Epoch 36/100\n",
            " - 1s - loss: 0.1942 - acc: 0.9126 - val_loss: 0.0445 - val_acc: 0.9731\n",
            "Epoch 37/100\n",
            " - 1s - loss: 0.1899 - acc: 0.9135 - val_loss: 0.0398 - val_acc: 0.9747\n",
            "Epoch 38/100\n",
            " - 1s - loss: 0.1864 - acc: 0.9124 - val_loss: 0.0352 - val_acc: 0.9784\n",
            "Epoch 39/100\n",
            " - 1s - loss: 0.1830 - acc: 0.9117 - val_loss: 0.0307 - val_acc: 0.9826\n",
            "Epoch 40/100\n",
            " - 1s - loss: 0.1802 - acc: 0.9115 - val_loss: 0.0257 - val_acc: 0.9863\n",
            "Epoch 41/100\n",
            " - 1s - loss: 0.1775 - acc: 0.9133 - val_loss: 0.0228 - val_acc: 0.9873\n",
            "Epoch 42/100\n",
            " - 1s - loss: 0.1742 - acc: 0.9173 - val_loss: 0.0207 - val_acc: 0.9895\n",
            "Epoch 43/100\n",
            " - 1s - loss: 0.1705 - acc: 0.9212 - val_loss: 0.0188 - val_acc: 0.9910\n",
            "Epoch 44/100\n",
            " - 1s - loss: 0.1683 - acc: 0.9228 - val_loss: 0.0174 - val_acc: 0.9916\n",
            "Epoch 45/100\n",
            " - 1s - loss: 0.1652 - acc: 0.9249 - val_loss: 0.0154 - val_acc: 0.9916\n",
            "Epoch 46/100\n",
            " - 1s - loss: 0.1631 - acc: 0.9272 - val_loss: 0.0150 - val_acc: 0.9931\n",
            "Epoch 47/100\n",
            " - 1s - loss: 0.1571 - acc: 0.9300 - val_loss: 0.0142 - val_acc: 0.9931\n",
            "Epoch 48/100\n",
            " - 1s - loss: 0.1653 - acc: 0.9284 - val_loss: 0.0147 - val_acc: 0.9931\n",
            "Epoch 49/100\n",
            " - 1s - loss: 0.1591 - acc: 0.9314 - val_loss: 0.0135 - val_acc: 0.9937\n",
            "Epoch 50/100\n",
            " - 1s - loss: 0.1578 - acc: 0.9307 - val_loss: 0.0126 - val_acc: 0.9947\n",
            "Epoch 51/100\n",
            " - 1s - loss: 0.1570 - acc: 0.9310 - val_loss: 0.0122 - val_acc: 0.9947\n",
            "Epoch 52/100\n",
            " - 1s - loss: 0.1564 - acc: 0.9308 - val_loss: 0.0120 - val_acc: 0.9947\n",
            "Epoch 53/100\n",
            " - 1s - loss: 0.1565 - acc: 0.9300 - val_loss: 0.0118 - val_acc: 0.9953\n",
            "Epoch 54/100\n",
            " - 1s - loss: 0.1564 - acc: 0.9290 - val_loss: 0.0117 - val_acc: 0.9953\n",
            "Epoch 55/100\n",
            " - 1s - loss: 0.1563 - acc: 0.9283 - val_loss: 0.0115 - val_acc: 0.9953\n",
            "Epoch 56/100\n",
            " - 1s - loss: 0.1563 - acc: 0.9283 - val_loss: 0.0114 - val_acc: 0.9953\n",
            "Epoch 57/100\n",
            " - 1s - loss: 0.1565 - acc: 0.9285 - val_loss: 0.0114 - val_acc: 0.9953\n",
            "Epoch 58/100\n",
            " - 1s - loss: 0.1560 - acc: 0.9293 - val_loss: 0.0114 - val_acc: 0.9953\n",
            "Epoch 59/100\n",
            " - 1s - loss: 0.1556 - acc: 0.9294 - val_loss: 0.0116 - val_acc: 0.9953\n",
            "Epoch 60/100\n",
            " - 1s - loss: 0.1546 - acc: 0.9307 - val_loss: 0.0117 - val_acc: 0.9953\n",
            "Epoch 61/100\n",
            " - 1s - loss: 0.1536 - acc: 0.9315 - val_loss: 0.0116 - val_acc: 0.9953\n",
            "Epoch 62/100\n",
            " - 1s - loss: 0.1534 - acc: 0.9310 - val_loss: 0.0116 - val_acc: 0.9958\n",
            "Epoch 63/100\n",
            " - 1s - loss: 0.1527 - acc: 0.9318 - val_loss: 0.0115 - val_acc: 0.9958\n",
            "Epoch 64/100\n",
            " - 1s - loss: 0.1527 - acc: 0.9313 - val_loss: 0.0115 - val_acc: 0.9958\n",
            "Epoch 65/100\n",
            " - 1s - loss: 0.1522 - acc: 0.9320 - val_loss: 0.0115 - val_acc: 0.9958\n",
            "Epoch 66/100\n",
            " - 1s - loss: 0.1521 - acc: 0.9316 - val_loss: 0.0116 - val_acc: 0.9958\n",
            "Epoch 67/100\n",
            " - 1s - loss: 0.1517 - acc: 0.9318 - val_loss: 0.0115 - val_acc: 0.9958\n",
            "Epoch 68/100\n",
            " - 1s - loss: 0.1518 - acc: 0.9315 - val_loss: 0.0116 - val_acc: 0.9958\n",
            "Epoch 69/100\n",
            " - 1s - loss: 0.1515 - acc: 0.9314 - val_loss: 0.0116 - val_acc: 0.9958\n",
            "Epoch 70/100\n",
            " - 1s - loss: 0.1514 - acc: 0.9315 - val_loss: 0.0117 - val_acc: 0.9958\n",
            "Epoch 71/100\n",
            " - 1s - loss: 0.1513 - acc: 0.9315 - val_loss: 0.0116 - val_acc: 0.9958\n",
            "Epoch 72/100\n",
            " - 1s - loss: 0.1517 - acc: 0.9309 - val_loss: 0.0118 - val_acc: 0.9963\n",
            "Epoch 73/100\n",
            " - 1s - loss: 0.1513 - acc: 0.9311 - val_loss: 0.0116 - val_acc: 0.9963\n",
            "Epoch 74/100\n",
            " - 1s - loss: 0.1516 - acc: 0.9307 - val_loss: 0.0116 - val_acc: 0.9968\n",
            "Epoch 75/100\n",
            " - 1s - loss: 0.1511 - acc: 0.9313 - val_loss: 0.0115 - val_acc: 0.9968\n",
            "Epoch 76/100\n",
            " - 1s - loss: 0.1514 - acc: 0.9308 - val_loss: 0.0116 - val_acc: 0.9963\n",
            "Epoch 77/100\n",
            " - 1s - loss: 0.1508 - acc: 0.9313 - val_loss: 0.0116 - val_acc: 0.9963\n",
            "Epoch 78/100\n",
            " - 1s - loss: 0.1510 - acc: 0.9304 - val_loss: 0.0118 - val_acc: 0.9958\n",
            "Epoch 79/100\n",
            " - 1s - loss: 0.1508 - acc: 0.9308 - val_loss: 0.0119 - val_acc: 0.9958\n",
            "Epoch 80/100\n",
            " - 1s - loss: 0.1507 - acc: 0.9304 - val_loss: 0.0121 - val_acc: 0.9958\n",
            "Epoch 81/100\n",
            " - 1s - loss: 0.1509 - acc: 0.9299 - val_loss: 0.0122 - val_acc: 0.9958\n",
            "Epoch 82/100\n",
            " - 1s - loss: 0.1503 - acc: 0.9305 - val_loss: 0.0123 - val_acc: 0.9963\n",
            "Epoch 83/100\n",
            " - 1s - loss: 0.1504 - acc: 0.9301 - val_loss: 0.0125 - val_acc: 0.9963\n",
            "Epoch 84/100\n",
            " - 1s - loss: 0.1502 - acc: 0.9302 - val_loss: 0.0127 - val_acc: 0.9963\n",
            "Epoch 85/100\n",
            " - 1s - loss: 0.1503 - acc: 0.9302 - val_loss: 0.0129 - val_acc: 0.9963\n",
            "Epoch 86/100\n",
            " - 1s - loss: 0.1500 - acc: 0.9304 - val_loss: 0.0131 - val_acc: 0.9963\n",
            "Epoch 87/100\n",
            " - 1s - loss: 0.1499 - acc: 0.9302 - val_loss: 0.0133 - val_acc: 0.9963\n",
            "Epoch 88/100\n",
            " - 1s - loss: 0.1498 - acc: 0.9305 - val_loss: 0.0134 - val_acc: 0.9963\n",
            "Epoch 89/100\n",
            " - 1s - loss: 0.1497 - acc: 0.9306 - val_loss: 0.0137 - val_acc: 0.9958\n",
            "Epoch 90/100\n",
            " - 1s - loss: 0.1492 - acc: 0.9307 - val_loss: 0.0139 - val_acc: 0.9953\n",
            "Epoch 91/100\n",
            " - 1s - loss: 0.1492 - acc: 0.9308 - val_loss: 0.0140 - val_acc: 0.9953\n",
            "Epoch 92/100\n",
            " - 1s - loss: 0.1491 - acc: 0.9309 - val_loss: 0.0141 - val_acc: 0.9947\n",
            "Epoch 93/100\n",
            " - 1s - loss: 0.1489 - acc: 0.9313 - val_loss: 0.0144 - val_acc: 0.9947\n",
            "Epoch 94/100\n",
            " - 1s - loss: 0.1488 - acc: 0.9316 - val_loss: 0.0143 - val_acc: 0.9947\n",
            "Epoch 95/100\n",
            " - 1s - loss: 0.1485 - acc: 0.9312 - val_loss: 0.0145 - val_acc: 0.9947\n",
            "Epoch 96/100\n",
            " - 1s - loss: 0.1483 - acc: 0.9315 - val_loss: 0.0146 - val_acc: 0.9947\n",
            "Epoch 97/100\n",
            " - 1s - loss: 0.1484 - acc: 0.9313 - val_loss: 0.0148 - val_acc: 0.9947\n",
            "Epoch 98/100\n",
            " - 1s - loss: 0.1483 - acc: 0.9315 - val_loss: 0.0150 - val_acc: 0.9947\n",
            "Epoch 99/100\n",
            " - 1s - loss: 0.1479 - acc: 0.9317 - val_loss: 0.0150 - val_acc: 0.9947\n",
            "Epoch 100/100\n",
            " - 1s - loss: 0.1480 - acc: 0.9317 - val_loss: 0.0151 - val_acc: 0.9947\n"
          ],
          "name": "stdout"
        },
        {
          "output_type": "execute_result",
          "data": {
            "text/plain": [
              "<keras.callbacks.History at 0x7fa5d85d2978>"
            ]
          },
          "metadata": {
            "tags": []
          },
          "execution_count": 37
        }
      ]
    },
    {
      "cell_type": "code",
      "metadata": {
        "id": "CxnR4TKP1y9l",
        "colab_type": "code",
        "colab": {
          "base_uri": "https://localhost:8080/",
          "height": 51
        },
        "outputId": "792cf763-c87a-4948-a5f9-0452034f76d7"
      },
      "source": [
        "model.evaluate(X_test, y_test)\n"
      ],
      "execution_count": 38,
      "outputs": [
        {
          "output_type": "stream",
          "text": [
            "2108/2108 [==============================] - 0s 22us/step\n"
          ],
          "name": "stdout"
        },
        {
          "output_type": "execute_result",
          "data": {
            "text/plain": [
              "[0.1410746844697468, 0.9392789373814042]"
            ]
          },
          "metadata": {
            "tags": []
          },
          "execution_count": 38
        }
      ]
    },
    {
      "cell_type": "code",
      "metadata": {
        "id": "xXrM0tt42E-M",
        "colab_type": "code",
        "colab": {}
      },
      "source": [
        ""
      ],
      "execution_count": 0,
      "outputs": []
    },
    {
      "cell_type": "code",
      "metadata": {
        "id": "dZ817iJR2NUJ",
        "colab_type": "code",
        "colab": {}
      },
      "source": [
        ""
      ],
      "execution_count": 0,
      "outputs": []
    }
  ]
}